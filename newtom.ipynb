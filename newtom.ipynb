{
 "metadata": {
  "language_info": {
   "codemirror_mode": {
    "name": "ipython",
    "version": 3
   },
   "file_extension": ".py",
   "mimetype": "text/x-python",
   "name": "python",
   "nbconvert_exporter": "python",
   "pygments_lexer": "ipython3",
   "version": "3.7.9-final"
  },
  "orig_nbformat": 2,
  "kernelspec": {
   "name": "python_defaultSpec_1600845093107",
   "display_name": "Python 3.7.9 64-bit ('intermovie': conda)"
  }
 },
 "nbformat": 4,
 "nbformat_minor": 2,
 "cells": [
  {
   "source": [
    "# Prérequis"
   ],
   "cell_type": "markdown",
   "metadata": {}
  },
  {
   "cell_type": "code",
   "execution_count": null,
   "metadata": {
    "tags": []
   },
   "outputs": [],
   "source": [
    "%load_ext autoreload\n",
    "%autoreload 2\n",
    "\n",
    "import pandas as pd\n",
    "import numpy as np"
   ]
  },
  {
   "source": [
    "# La liste des acteurs par film"
   ],
   "cell_type": "markdown",
   "metadata": {}
  },
  {
   "source": [
    "## Création des Dataframes"
   ],
   "cell_type": "markdown",
   "metadata": {}
  },
  {
   "cell_type": "code",
   "execution_count": null,
   "metadata": {},
   "outputs": [],
   "source": [
    "df_noms = pd.read_table(\"./data/name.basics.tsv\", sep='\\t')\n",
    "df_film = pd.read_table(\"./data/title.principals.tsv\", sep='\\t')\n",
    "df_titre = pd.read_table(\"./data/title.basics.tsv\", sep='\\t')"
   ]
  },
  {
   "source": [
    "## Optimisation des Dataframes"
   ],
   "cell_type": "markdown",
   "metadata": {}
  },
  {
   "source": [
    "### Dataframe \"noms\""
   ],
   "cell_type": "markdown",
   "metadata": {}
  },
  {
   "cell_type": "code",
   "execution_count": null,
   "metadata": {},
   "outputs": [],
   "source": [
    "df_noms = pd.read_table(\"./data/name.basics.tsv\", sep='\\t')\n",
    "\n",
    "df_noms.info(memory_usage=\"deep\")\n",
    "\n",
    "df_noms = df_noms.drop([\"knownForTitles\",\"birthYear\",\"deathYear\"], axis = 1)\n",
    "\n",
    "df_noms.head()\n",
    "\n",
    "df_noms = df_noms.dropna()\n",
    "\n",
    "df_noms = df_noms[[\"nconst\",\"primaryName\"]][df_noms[\"primaryProfession\"].str.contains(\"actor|actress\", regex=True)]\n",
    "\n",
    "df_noms_clean = df_noms\n",
    "\n",
    "del df_noms\n",
    "\n",
    "df_noms_clean.info(memory_usage=\"deep\")\n"
   ]
  },
  {
   "source": [
    "### Dataframe \"film\""
   ],
   "cell_type": "markdown",
   "metadata": {}
  },
  {
   "cell_type": "code",
   "execution_count": null,
   "metadata": {
    "tags": []
   },
   "outputs": [],
   "source": [
    "df_film.info(memory_usage=\"deep\")\n",
    "\n",
    "df_film = df_film.drop([\"ordering\",\"job\",\"characters\"], axis = 1)\n",
    "\n",
    "df_films = df_film.dropna()\n",
    "\n",
    "del df_film\n",
    "\n",
    "df_films = df_films[[\"tconst\",\"nconst\"]][df_films[\"category\"].str.contains(\"actor|actress\", regex=True)]\n",
    "\n",
    "df_films_clean = df_films\n",
    "\n",
    "del df_films\n",
    "\n",
    "df_films_clean.info(memory_usage=\"deep\")"
   ]
  },
  {
   "source": [
    "### Dataframe \"titre\""
   ],
   "cell_type": "markdown",
   "metadata": {}
  },
  {
   "cell_type": "code",
   "execution_count": null,
   "metadata": {
    "tags": []
   },
   "outputs": [],
   "source": [
    "df_titre.info(memory_usage=\"deep\")\n",
    "\n",
    "df_titre = df_titre.drop([\"titleType\",\"originalTitle\",\"isAdult\",\"startYear\",\"endYear\",\"runtimeMinutes\",\"genres\"], axis = 1)\n",
    "\n",
    "df_titre_clean = df_titre.dropna()\n",
    "\n",
    "del df_titre\n",
    "\n",
    "df_titre_clean.info(memory_usage=\"deep\")"
   ]
  },
  {
   "source": [
    "## Fusion des Dataframes"
   ],
   "cell_type": "markdown",
   "metadata": {}
  },
  {
   "cell_type": "code",
   "execution_count": null,
   "metadata": {},
   "outputs": [],
   "source": [
    "df_films = df_films_clean.set_index(\"tconst\")\n",
    "df_titres = df_titre_clean.set_index(\"tconst\")\n",
    "df_films_titre = df_films.join(df_titres).reset_index()\n",
    "df_films_titre.drop(columns=[\"tconst\"], inplace=True)\n",
    "\n",
    "del df_films_clean\n",
    "del df_titre_clean\n",
    "\n",
    "df_films_titre = df_films_titre.set_index(\"nconst\")\n",
    "df_noms_cleans = df_noms_clean.set_index(\"nconst\")\n",
    "df_final = df_films_titre.join(df_noms_cleans).reset_index()\n",
    "df_final.drop(columns=[\"nconst\"], inplace=True)\n",
    "\n",
    "del df_noms_cleans\n",
    "del df_titres\n",
    "\n",
    "df_final = df_final.dropna()\n",
    "\n",
    "df_final.to_csv(\"./data/df_final.csv\")"
   ]
  },
  {
   "source": [
    "# La liste des films Américains (en gardant leur nom en français) et leur note moyenne"
   ],
   "cell_type": "markdown",
   "metadata": {}
  },
  {
   "cell_type": "code",
   "execution_count": null,
   "metadata": {},
   "outputs": [],
   "source": []
  }
 ]
}