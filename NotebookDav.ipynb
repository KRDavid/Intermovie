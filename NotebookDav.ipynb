{
 "cells": [
  {
   "cell_type": "markdown",
   "metadata": {},
   "source": [
    "# Intermovie, la bibliothèque du 7ème art"
   ]
  },
  {
   "cell_type": "code",
   "execution_count": 1,
   "metadata": {},
   "outputs": [],
   "source": [
    "%load_ext autoreload\n",
    "%autoreload 2"
   ]
  },
  {
   "cell_type": "markdown",
   "metadata": {},
   "source": [
    "Import des librairies"
   ]
  },
  {
   "cell_type": "code",
   "execution_count": 2,
   "metadata": {},
   "outputs": [],
   "source": [
    "import numpy as np\n",
    "import pandas as pd\n",
    "import matplotlib.pyplot as plt\n",
    "from functions import split"
   ]
  },
  {
   "source": [
    "## Préparation des datasets"
   ],
   "cell_type": "markdown",
   "metadata": {}
  },
  {
   "cell_type": "code",
   "execution_count": 3,
   "metadata": {},
   "outputs": [],
   "source": [
    "##### Création de l'instance de classe #####\n",
    "splitter_object = split.splitter(\"./data\", '\\t')\n",
    "\n",
    "splitter_object.file_splitter(\"title.principals.tsv\", \"category\", \"title.principals\")\n",
    "splitter_object.file_splitter(\"title.akas\", \"region\", \"title.akas\")\n",
    "splitter_object.file_splitter(\"title.basics\", \"titleType\", \"title.basics\")"
   ]
  },
  {
   "cell_type": "markdown",
   "metadata": {},
   "source": [
    "## Création du premier CSV"
   ]
  },
  {
   "cell_type": "code",
   "execution_count": 3,
   "metadata": {},
   "outputs": [],
   "source": [
    "#fichier title\n",
    "data_title1 = pd.read_csv('./data/CURATED/title.basics/movie.csv', sep = ',')\n",
    "data_title2 = pd.read_csv('./data/CURATED/title.basics/tvMovie.csv', sep = ',')\n",
    "data_title = pd.concat([data_title1, data_title2], axis = 0)\n",
    "del data_title1\n",
    "del data_title2\n",
    "data_title = data_title.drop([\"titleType\",\"originalTitle\",\"isAdult\",\"startYear\",\"endYear\",\"runtimeMinutes\",\"genres\"], axis = 1)\n",
    "data_title.set_index('tconst', inplace  = True)\n",
    "data_title_clean = data_title.dropna()\n",
    "del data_title\n",
    "\n",
    "#fichier noms\n",
    "data_noms = pd.read_csv('./data/RAW/name.basics.tsv', sep=\"\\t\")\n",
    "data_noms = data_noms.drop([\"birthYear\", \"deathYear\"], axis = 1)\n",
    "data_noms = data_noms.dropna()\n",
    "data_noms = data_noms[[\"nconst\", \"primaryName\"]][data_noms['primaryProfession'].str.contains('actor|actress', regex=True)]\n",
    "data_noms_clean = data_noms.set_index('nconst')\n",
    "del data_noms\n",
    "\n",
    "#fichier films\n",
    "data_films1 = pd.read_csv('./data/CURATED/title.principals/actor.csv', sep=\",\")\n",
    "data_films2 = pd.read_csv('./data/CURATED/title.principals/actress.csv', sep=\",\")\n",
    "data_films = pd.concat([data_films1, data_films2], axis=0)\n",
    "del data_films1\n",
    "del data_films2\n",
    "data_films = data_films.dropna()\n",
    "data_films = data_films.drop([\"ordering\", \"job\", \"characters\"], axis = 1)\n",
    "data_films_clean = data_films[[\"tconst\", \"nconst\"]][data_films['nconst'].str.contains('n')]\n",
    "del data_films\n",
    "\n",
    "#fusion des dataframe\n",
    "data_films_clean.set_index('tconst', inplace  = True)\n",
    "data_films_with_title = data_films_clean.join(data_title_clean).reset_index().drop([\"tconst\"], axis = 1)\n",
    "del data_films_clean\n",
    "del data_title_clean\n",
    "data_films_with_title.set_index('nconst', inplace  = True)\n",
    "data_final = data_films_with_title.join(data_noms_clean).reset_index().drop([\"nconst\"], axis = 1)\n",
    "del data_films_with_title\n",
    "del data_noms_clean\n",
    "\n",
    "#convertion en csv\n",
    "data_final = data_final.dropna()\n",
    "data_final.to_csv(\"./data/OUTPUT/csv_req_1.csv\")\n",
    "del data_final"
   ]
  },
  {
   "cell_type": "markdown",
   "metadata": {},
   "source": [
    "## Création du deuxième CSV"
   ]
  },
  {
   "cell_type": "code",
   "execution_count": 4,
   "metadata": {},
   "outputs": [],
   "source": [
    "#fichier title\n",
    "data_title1 = pd.read_csv('./data/CURATED/title.basics/movie.csv', sep = ',')\n",
    "data_title2 = pd.read_csv('./data/CURATED/title.basics/tvMovie.csv', sep = ',')\n",
    "data_title = pd.concat([data_title1, data_title2], axis = 0)\n",
    "del data_title1\n",
    "del data_title2\n",
    "data_title = data_title.drop([\"titleType\",\"originalTitle\",\"isAdult\",\"startYear\",\"endYear\",\"runtimeMinutes\",\"genres\"], axis = 1)\n",
    "data_title.set_index('tconst', inplace  = True)\n",
    "data_title_clean = data_title.dropna()\n",
    "del data_title\n",
    "\n",
    "#fichier ratings\n",
    "data_ratings = pd.read_csv('./data/RAW/title.ratings.tsv', sep=\"\\t\")\n",
    "data_ratings = data_ratings.drop([\"numVotes\"], axis = 1)\n",
    "data_ratings.set_index('tconst', inplace  = True)\n",
    "data_ratings_clean = data_ratings.dropna()\n",
    "del data_ratings\n",
    "\n",
    "#fichier natio\n",
    "data_natio = pd.read_csv('./data/CURATED/title.akas/US.csv', sep=\",\")\n",
    "data_natio = data_natio.dropna()\n",
    "data_natio_clean = data_natio.set_index('titleId')\n",
    "del data_natio\n",
    "\n",
    "#fusion des dataframe\n",
    "data_natio_clean = data_natio_clean.join(data_title_clean)\n",
    "data_final = data_natio_clean.join(data_ratings_clean)\n",
    "data_final = data_final.drop([\"region\"], axis = 1)\n",
    "data_final.drop_duplicates(keep = 'first', inplace=True)\n",
    "del data_natio_clean\n",
    "\n",
    "#convertion en csv\n",
    "data_final.to_csv(\"./data/OUTPUT/csv_req_2.csv\")\n",
    "del data_final"
   ]
  },
  {
   "cell_type": "markdown",
   "metadata": {},
   "source": [
    "## Création du troisième CSV"
   ]
  },
  {
   "cell_type": "code",
   "execution_count": 5,
   "metadata": {},
   "outputs": [],
   "source": [
    "#fichier title\n",
    "data_title = pd.read_csv('./data/RAW/title.basics.tsv', sep=\"\\t\")\n",
    "data_title = data_title.drop([\"titleType\",\"primaryTitle\",\"isAdult\",\"startYear\",\"endYear\",\"runtimeMinutes\"], axis = 1)\n",
    "data_title.set_index('tconst', inplace  = True)\n",
    "data_title_clean = data_title.dropna()\n",
    "del data_title\n",
    "\n",
    "#fichier ratings\n",
    "data_ratings = pd.read_csv('./data/RAW/title.ratings.tsv', sep=\"\\t\")\n",
    "data_ratings = data_ratings.drop([\"numVotes\"], axis = 1)\n",
    "data_ratings.set_index('tconst', inplace  = True)\n",
    "data_ratings_clean = data_ratings.dropna()\n",
    "del data_ratings\n",
    "\n",
    "#fusion des dataframes\n",
    "df_intermediaire = data_title_clean.join(data_ratings_clean)\n",
    "df_intermediaire = df_intermediaire.reset_index()\n",
    "df_intermediaire = df_intermediaire.drop([\"tconst\"], axis = 1)\n",
    "df_intermediaire = df_intermediaire.dropna()\n",
    "del data_title_clean\n",
    "del data_ratings_clean\n",
    "\n",
    "#calcul moyenne\n",
    "df_cat = pd.DataFrame\n",
    "df_cat = df_intermediaire[\"genres\"].str.split(\",\", expand=True)\n",
    "df_intermediaire = df_intermediaire.join(df_cat).drop([\"genres\"], axis=1)\n",
    "del df_cat\n",
    "df_moy1 = df_intermediaire.groupby([0])[\"averageRating\"].mean()\n",
    "df_moy2 = df_intermediaire.groupby([1])[\"averageRating\"].mean()\n",
    "df_moy3 = df_intermediaire.groupby([2])[\"averageRating\"].mean()\n",
    "df_moy = pd.concat([df_moy1, df_moy2, df_moy3], axis = 1, keys = [\"moy1\", \"moy2\", \"moy3\"])\n",
    "del df_intermediaire\n",
    "del df_moy1\n",
    "del df_moy2\n",
    "del df_moy3\n",
    "df_moy['moy'] = df_moy[['moy1', 'moy2', 'moy3']].mean(axis=1)\n",
    "df_moy = df_moy.drop([\"moy1\", \"moy2\", \"moy3\"], axis = 1)\n",
    "\n",
    "#convertion en csv\n",
    "df_moy.to_csv('./data/OUTPUT/csv_req_3.csv')\n",
    "del df_moy"
   ]
  },
  {
   "source": [
    "# Création du quatrième CSV"
   ],
   "cell_type": "markdown",
   "metadata": {}
  },
  {
   "cell_type": "code",
   "execution_count": 6,
   "metadata": {},
   "outputs": [],
   "source": [
    "#fichier title\n",
    "data_title1 = pd.read_csv('./data/CURATED/title.basics/movie.csv', sep = ',')\n",
    "data_title2 = pd.read_csv('./data/CURATED/title.basics/tvMovie.csv', sep = ',')\n",
    "data_title = pd.concat([data_title1, data_title2], axis = 0)\n",
    "del data_title1\n",
    "del data_title2\n",
    "data_title = data_title.drop([\"titleType\",\"originalTitle\",\"isAdult\",\"startYear\",\"endYear\",\"runtimeMinutes\",\"genres\"], axis = 1)\n",
    "data_title.set_index('tconst', inplace  = True)\n",
    "data_title_clean = data_title.dropna()\n",
    "del data_title\n",
    "\n",
    "#fichier noms\n",
    "data_noms = pd.read_csv('./data/RAW/name.basics.tsv', sep=\"\\t\")\n",
    "data_noms = data_noms.drop([\"birthYear\", \"deathYear\"], axis = 1)\n",
    "data_noms = data_noms.dropna()\n",
    "data_noms = data_noms[[\"nconst\", \"primaryName\"]][data_noms['primaryProfession'].str.contains('actor|actress', regex=True)]\n",
    "data_noms_clean = data_noms.set_index('nconst')\n",
    "del data_noms\n",
    "\n",
    "#fichier films\n",
    "data_films1 = pd.read_csv('./data/CURATED/title.principals/actor.csv', sep=\",\")\n",
    "data_films2 = pd.read_csv('./data/CURATED/title.principals/actress.csv', sep=\",\")\n",
    "data_films = pd.concat([data_films1, data_films2], axis=0)\n",
    "del data_films1\n",
    "del data_films2\n",
    "data_films = data_films.dropna()\n",
    "data_films = data_films.drop([\"ordering\", \"job\", \"characters\"], axis = 1)\n",
    "data_films_clean = data_films[[\"tconst\", \"nconst\"]][data_films['nconst'].str.contains('n')]\n",
    "del data_films\n",
    "\n",
    "#fichier ratings\n",
    "data_ratings = pd.read_csv('./data/RAW/title.ratings.tsv', sep=\"\\t\")\n",
    "data_ratings = data_ratings.drop([\"numVotes\"], axis = 1)\n",
    "data_ratings.set_index('tconst', inplace  = True)\n",
    "data_ratings_clean = data_ratings.dropna()\n",
    "del data_ratings\n",
    "\n",
    "#fusio, des dataframes\n",
    "data_films_clean.set_index('tconst', inplace  = True)\n",
    "data_films_with_title = data_films_clean.join(data_title_clean)\n",
    "data_films_with_title = data_films_with_title.join(data_ratings_clean).reset_index().drop([\"tconst\"], axis = 1)\n",
    "del data_films_clean\n",
    "del data_title_clean\n",
    "del data_ratings_clean\n",
    "data_films_with_title.set_index('nconst', inplace  = True)\n",
    "data_final = data_films_with_title.join(data_noms_clean).reset_index().drop([\"nconst\"], axis = 1)\n",
    "del data_films_with_title\n",
    "del data_noms_clean\n",
    "\n",
    "#calcul de la moyenne\n",
    "data_final = data_final.dropna()\n",
    "data_final = data_final.groupby([\"primaryName\"]).mean()\n",
    "\n",
    "#conversion en csv\n",
    "data_final.to_csv('./data/OUTPUT/csv_req_4.csv')\n",
    "del data_final"
   ]
  }
 ],
 "metadata": {
  "kernelspec": {
   "display_name": "Python 3",
   "language": "python",
   "name": "python3"
  },
  "language_info": {
   "codemirror_mode": {
    "name": "ipython",
    "version": 3
   },
   "file_extension": ".py",
   "mimetype": "text/x-python",
   "name": "python",
   "nbconvert_exporter": "python",
   "pygments_lexer": "ipython3",
   "version": "3.8.3-final"
  }
 },
 "nbformat": 4,
 "nbformat_minor": 4
}