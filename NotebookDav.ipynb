{
 "cells": [
  {
   "cell_type": "markdown",
   "metadata": {},
   "source": [
    "# Intermovie, la bibliothèque du 7ème art"
   ]
  },
  {
   "cell_type": "code",
   "execution_count": null,
   "metadata": {},
   "outputs": [],
   "source": [
    "%load_ext autoreload\n",
    "%autoreload 2"
   ]
  },
  {
   "cell_type": "markdown",
   "metadata": {},
   "source": [
    "Import des librairies"
   ]
  },
  {
   "cell_type": "code",
   "execution_count": 1,
   "metadata": {},
   "outputs": [],
   "source": [
    "import numpy as np\n",
    "import pandas as pd\n",
    "import matplotlib.pyplot as plt\n",
    "from functions import nettoyage as net"
   ]
  },
  {
   "source": [
    "## Téléchargement et extraction des données"
   ],
   "cell_type": "markdown",
   "metadata": {}
  },
  {
   "cell_type": "code",
   "execution_count": null,
   "metadata": {
    "tags": []
   },
   "outputs": [],
   "source": [
    "from functions import download\n",
    "\n",
    "##### Création de l'instance de classe #####\n",
    "download_object = download.downloader(\"./data\")\n",
    "\n",
    "##### Téléchargement du fichier #####\n",
    "download_object.data_download(\"data_file.zip\", 'https://stdatalake005.blob.core.windows.net/public/movies_dataset.zip')\n",
    "\n",
    "##### Extraction du fichier #####\n",
    "download_object.data_extract(\"data_file.zip\")"
   ]
  },
  {
   "source": [
    "## Préparation des datasets"
   ],
   "cell_type": "markdown",
   "metadata": {}
  },
  {
   "cell_type": "code",
   "execution_count": null,
   "metadata": {
    "tags": []
   },
   "outputs": [],
   "source": [
    "from functions import split\n",
    "\n",
    "##### Création de l'instance de classe #####\n",
    "splitter_object = split.splitter(\"./data\", '\\t')\n",
    "\n",
    "##### Split des fichiers #####\n",
    "splitter_object.file_splitter(\"title.principals.tsv\", \"category\", \"title.principals\")\n",
    "splitter_object.file_splitter(\"title.akas.tsv\", \"region\", \"title.akas\")\n",
    "splitter_object.file_splitter(\"title.basics.tsv\", \"titleType\", \"title.basics\")"
   ]
  },
  {
   "cell_type": "markdown",
   "metadata": {},
   "source": [
    "## Création du premier CSV"
   ]
  },
  {
   "cell_type": "code",
   "execution_count": 2,
   "metadata": {},
   "outputs": [],
   "source": [
    "data_title_clean = net.nettoyage_title_basics()\n",
    "\n",
    "data_noms_clean = net.nettoyage_name_basics()\n",
    "\n",
    "data_films_clean = net.nettoyage_title_principals()\n",
    "\n",
    "#fusion des dataframe\n",
    "data_films_clean.set_index('tconst', inplace  = True)\n",
    "data_films_with_title = data_films_clean.join(data_title_clean).reset_index().drop([\"tconst\"], axis = 1)\n",
    "del data_films_clean\n",
    "del data_title_clean\n",
    "data_films_with_title.set_index('nconst', inplace  = True)\n",
    "data_final = data_films_with_title.join(data_noms_clean).reset_index().drop([\"nconst\"], axis = 1)\n",
    "del data_films_with_title\n",
    "del data_noms_clean\n",
    "\n",
    "#convertion en csv\n",
    "data_final = data_final.dropna()\n",
    "data_final.to_csv(\"./data/OUTPUT/csv_req_1.csv\")\n",
    "del data_final"
   ]
  },
  {
   "cell_type": "markdown",
   "metadata": {},
   "source": [
    "## Création du deuxième CSV"
   ]
  },
  {
   "cell_type": "code",
   "execution_count": 3,
   "metadata": {},
   "outputs": [],
   "source": [
    "data_title_clean = net.nettoyage_title_basics()\n",
    "\n",
    "data_ratings_clean = net.nettoyage_title_ratings()\n",
    "\n",
    "data_natio_clean = net.nettoyage_title_akas()\n",
    "\n",
    "#fusion des dataframe\n",
    "data_natio_clean = data_natio_clean.join(data_title_clean)\n",
    "data_final = data_natio_clean.join(data_ratings_clean).reset_index()\n",
    "data_final.drop_duplicates(keep = 'first', inplace=True)\n",
    "del data_natio_clean\n",
    "\n",
    "#convertion en csv\n",
    "data_final = data_final.dropna()\n",
    "data_final.to_csv(\"./data/OUTPUT/csv_req_2.csv\")\n",
    "del data_final"
   ]
  },
  {
   "cell_type": "markdown",
   "metadata": {},
   "source": [
    "## Création du troisième CSV"
   ]
  },
  {
   "cell_type": "code",
   "execution_count": 4,
   "metadata": {},
   "outputs": [],
   "source": [
    "data_title_clean = net.lecture_title_basics()\n",
    "\n",
    "data_ratings_clean = net.nettoyage_title_ratings()\n",
    "\n",
    "#fusion des dataframes\n",
    "df_intermediaire = data_title_clean.join(data_ratings_clean)\n",
    "df_intermediaire = df_intermediaire.reset_index()\n",
    "df_intermediaire = df_intermediaire.drop([\"tconst\"], axis = 1)\n",
    "df_intermediaire = df_intermediaire.dropna()\n",
    "del data_title_clean\n",
    "del data_ratings_clean\n",
    "\n",
    "#calcul moyenne\n",
    "df_cat = pd.DataFrame\n",
    "df_cat = df_intermediaire[\"genres\"].str.split(\",\", expand=True)\n",
    "df_intermediaire = df_intermediaire.join(df_cat).drop([\"genres\"], axis=1)\n",
    "del df_cat\n",
    "df_moy1 = df_intermediaire.groupby([0])[\"averageRating\"].mean()\n",
    "df_moy2 = df_intermediaire.groupby([1])[\"averageRating\"].mean()\n",
    "df_moy3 = df_intermediaire.groupby([2])[\"averageRating\"].mean()\n",
    "df_moy = pd.concat([df_moy1, df_moy2, df_moy3], axis = 1, keys = [\"moy1\", \"moy2\", \"moy3\"])\n",
    "del df_intermediaire\n",
    "del df_moy1\n",
    "del df_moy2\n",
    "del df_moy3\n",
    "df_moy['moy'] = df_moy[['moy1', 'moy2', 'moy3']].mean(axis=1)\n",
    "df_moy = df_moy.drop([\"moy1\", \"moy2\", \"moy3\"], axis = 1)\n",
    "\n",
    "#convertion en csv\n",
    "df_moy.to_csv('./data/OUTPUT/csv_req_3.csv')\n",
    "del df_moy"
   ]
  },
  {
   "source": [
    "# Création du quatrième CSV"
   ],
   "cell_type": "markdown",
   "metadata": {}
  },
  {
   "cell_type": "code",
   "execution_count": 5,
   "metadata": {},
   "outputs": [],
   "source": [
    "data_title_clean = net.nettoyage_title_basics()\n",
    "\n",
    "data_noms_clean = net.nettoyage_name_basics()\n",
    "\n",
    "data_films_clean = net.nettoyage_title_principals()\n",
    "\n",
    "data_ratings_clean = net.nettoyage_title_ratings()\n",
    "\n",
    "#fusion des dataframes\n",
    "data_films_clean.set_index('tconst', inplace  = True)\n",
    "data_films_with_title = data_films_clean.join(data_title_clean)\n",
    "data_films_with_title = data_films_with_title.join(data_ratings_clean).reset_index().drop([\"tconst\"], axis = 1)\n",
    "del data_films_clean\n",
    "del data_title_clean\n",
    "del data_ratings_clean\n",
    "data_films_with_title.set_index('nconst', inplace  = True)\n",
    "data_final = data_films_with_title.join(data_noms_clean).reset_index().drop([\"nconst\"], axis = 1)\n",
    "del data_films_with_title\n",
    "del data_noms_clean\n",
    "\n",
    "#calcul de la moyenne\n",
    "data_final = data_final.dropna()\n",
    "data_final = data_final.groupby([\"primaryName\"]).mean()\n",
    "\n",
    "#conversion en csv\n",
    "data_final.to_csv('./data/OUTPUT/csv_req_4.csv')\n",
    "del data_final"
   ]
  },
  {
   "cell_type": "code",
   "execution_count": null,
   "metadata": {},
   "outputs": [],
   "source": []
  }
 ],
 "metadata": {
  "kernelspec": {
   "display_name": "Python 3",
   "language": "python",
   "name": "python3"
  },
  "language_info": {
   "codemirror_mode": {
    "name": "ipython",
    "version": 3
   },
   "file_extension": ".py",
   "mimetype": "text/x-python",
   "name": "python",
   "nbconvert_exporter": "python",
   "pygments_lexer": "ipython3",
   "version": "3.8.3-final"
  }
 },
 "nbformat": 4,
 "nbformat_minor": 4
}