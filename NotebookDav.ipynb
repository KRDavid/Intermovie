{
 "cells": [
  {
   "cell_type": "markdown",
   "metadata": {},
   "source": [
    "# Intermovie, la bibliothèque du 7ème art"
   ]
  },
  {
   "cell_type": "code",
   "execution_count": 1,
   "metadata": {},
   "outputs": [],
   "source": [
    "%load_ext autoreload\n",
    "%autoreload 2"
   ]
  },
  {
   "cell_type": "markdown",
   "metadata": {},
   "source": [
    "Import des librairies"
   ]
  },
  {
   "cell_type": "code",
   "execution_count": 2,
   "metadata": {},
   "outputs": [],
   "source": [
    "import numpy as np\n",
    "import pandas as pd\n",
    "import matplotlib.pyplot as plt"
   ]
  },
  {
   "source": [
    "## Téléchargement et extraction des données"
   ],
   "cell_type": "markdown",
   "metadata": {}
  },
  {
   "cell_type": "code",
   "execution_count": 4,
   "metadata": {
    "tags": []
   },
   "outputs": [
    {
     "output_type": "stream",
     "name": "stdout",
     "text": "Data extracting...\nExtraction complete\n"
    }
   ],
   "source": [
    "from functions import download\n",
    "\n",
    "##### Création de l'instance de classe #####\n",
    "download_object = download.downloader(\"./data\")\n",
    "\n",
    "##### Téléchargement du fichier #####\n",
    "download_object.data_download(\"data_file.zip\", 'https://stdatalake005.blob.core.windows.net/public/movies_dataset.zip')\n",
    "\n",
    "##### Extraction du fichier #####\n",
    "download_object.data_extract(\"data_file.zip\")"
   ]
  },
  {
   "source": [
    "## Préparation des datasets"
   ],
   "cell_type": "markdown",
   "metadata": {}
  },
  {
   "cell_type": "code",
   "execution_count": 5,
   "metadata": {
    "tags": []
   },
   "outputs": [
    {
     "output_type": "stream",
     "name": "stdout",
     "text": "Split fichier title.principals.tsv terminé\nSplit fichier title.akas.tsv terminé\nSplit fichier title.basics.tsv terminé\n"
    }
   ],
   "source": [
    "from functions import split\n",
    "\n",
    "##### Création de l'instance de classe #####\n",
    "splitter_object = split.splitter(\"./data\", '\\t')\n",
    "\n",
    "##### Split des fichiers #####\n",
    "splitter_object.file_splitter(\"title.principals.tsv\", \"category\", \"title.principals\")\n",
    "splitter_object.file_splitter(\"title.akas.tsv\", \"region\", \"title.akas\")\n",
    "splitter_object.file_splitter(\"title.basics.tsv\", \"titleType\", \"title.basics\")"
   ]
  },
  {
   "cell_type": "markdown",
   "metadata": {},
   "source": [
    "## Création du premier CSV"
   ]
  },
  {
   "cell_type": "code",
   "execution_count": 3,
   "metadata": {},
   "outputs": [],
   "source": [
    "from functions import requete_1\n",
    "\n",
    "requete_1.requete()"
   ]
  },
  {
   "cell_type": "markdown",
   "metadata": {},
   "source": [
    "## Création du deuxième CSV"
   ]
  },
  {
   "cell_type": "code",
   "execution_count": 7,
   "metadata": {},
   "outputs": [],
   "source": [
    "from functions import requete_2\n",
    "\n",
    "requete_2.requete()"
   ]
  },
  {
   "cell_type": "markdown",
   "metadata": {},
   "source": [
    "## Création du troisième CSV"
   ]
  },
  {
   "cell_type": "code",
   "execution_count": 8,
   "metadata": {},
   "outputs": [],
   "source": [
    "from functions import requete_3\n",
    "\n",
    "requete_3.requete()"
   ]
  },
  {
   "source": [
    "# Création du quatrième CSV"
   ],
   "cell_type": "markdown",
   "metadata": {}
  },
  {
   "cell_type": "code",
   "execution_count": 9,
   "metadata": {},
   "outputs": [],
   "source": [
    "from functions import requete_4\n",
    "\n",
    "requete_4.requete()"
   ]
  },
  {
   "cell_type": "code",
   "execution_count": null,
   "metadata": {},
   "outputs": [],
   "source": []
  }
 ],
 "metadata": {
  "kernelspec": {
   "display_name": "Python 3",
   "language": "python",
   "name": "python3"
  },
  "language_info": {
   "codemirror_mode": {
    "name": "ipython",
    "version": 3
   },
   "file_extension": ".py",
   "mimetype": "text/x-python",
   "name": "python",
   "nbconvert_exporter": "python",
   "pygments_lexer": "ipython3",
   "version": "3.8.3-final"
  }
 },
 "nbformat": 4,
 "nbformat_minor": 4
}