{
 "metadata": {
  "language_info": {
   "codemirror_mode": {
    "name": "ipython",
    "version": 3
   },
   "file_extension": ".py",
   "mimetype": "text/x-python",
   "name": "python",
   "nbconvert_exporter": "python",
   "pygments_lexer": "ipython3",
   "version": "3.7.9-final"
  },
  "orig_nbformat": 2,
  "kernelspec": {
   "name": "Python 3.7.9 64-bit ('intermovie': conda)",
   "display_name": "Python 3.7.9 64-bit ('intermovie': conda)",
   "metadata": {
    "interpreter": {
     "hash": "e158c6071094e0b3fdd2c320e554ca330ac70e308835a49627938a89d3ec7dcb"
    }
   }
  }
 },
 "nbformat": 4,
 "nbformat_minor": 2,
 "cells": [
  {
   "source": [
    "## Import des librairies"
   ],
   "cell_type": "markdown",
   "metadata": {}
  },
  {
   "cell_type": "code",
   "execution_count": null,
   "metadata": {
    "tags": []
   },
   "outputs": [],
   "source": [
    "%load_ext autoreload\n",
    "%autoreload 2\n",
    "\n",
    "import pandas as pd\n",
    "import numpy as np\n",
    "import csv\n",
    "from functions import split\n",
    "import matplotlib.pyplot as plt"
   ]
  },
  {
   "source": [
    "## Préparation"
   ],
   "cell_type": "markdown",
   "metadata": {}
  },
  {
   "cell_type": "code",
   "execution_count": null,
   "metadata": {},
   "outputs": [],
   "source": [
    "# CREATION DE L'INSTANCE \"SPLIT\"\n",
    "splitter_object = split.splitter(\"./data\", '\\t')\n",
    "\n",
    "splitter_object.file_splitter(\"title.principals.tsv\", \"category\", \"title.principals\")\n",
    "splitter_object.file_splitter(\"title.akas.tsv\", \"region\", \"title.akas\")\n",
    "splitter_object.file_splitter(\"title.basics.tsv\", \"titleType\", \"title.basics\")"
   ]
  },
  {
   "source": [
    "# La liste des acteurs par film"
   ],
   "cell_type": "markdown",
   "metadata": {}
  },
  {
   "cell_type": "code",
   "execution_count": null,
   "metadata": {},
   "outputs": [],
   "source": [
    "# CREATION ET MODIFICATION DES DATAFRAMES \"actor\" et \"actress\"\n",
    "global_actor = pd.read_table(\"./data/CURATED/title.principals/actor.csv\", sep=',')\n",
    "global_actress = pd.read_table(\"./data/CURATED/title.principals/actress.csv\", sep=',')\n",
    "df_actor_actress = pd.concat([global_actor,global_actress])\n",
    "df_actor_actress.drop([\"ordering\",\"category\",\"job\",\"characters\"], axis=1,inplace=True)"
   ]
  },
  {
   "cell_type": "code",
   "execution_count": null,
   "metadata": {},
   "outputs": [],
   "source": [
    "# CREATION ET MODIFICATION DES DATAFRAMES \"movie\"\n",
    "global_movie = pd.read_table(\"./data/CURATED/title.basics/movie.csv\", sep=',')\n",
    "df_movie = global_movie.drop([\"titleType\",\"primaryTitle\",\"isAdult\",\"startYear\",\"endYear\",\"runtimeMinutes\",\"genres\"], axis=1)\n",
    "\n",
    "# CREATION ET MODIFICATION DES DATAFRAMES \"name_actor\"\n",
    "global_name_actor = pd.read_table(\"./data/RAW/name.basics.tsv\", sep='\\t')\n",
    "df_name_actor = global_name_actor.dropna()\n",
    "df_name_actor = df_name_actor[[\"nconst\",\"primaryName\"]][df_name_actor[\"primaryProfession\"].str.contains(\"actor|actress\", regex=True)]\n",
    "\n",
    "# CHANGEMENT DES INDEX\n",
    "df_actor_actress.set_index(\"tconst\", inplace=True)\n",
    "df_movie.set_index(\"tconst\", inplace=True)\n",
    "df_name_actor.set_index(\"nconst\", inplace=True)"
   ]
  },
  {
   "cell_type": "code",
   "execution_count": null,
   "metadata": {},
   "outputs": [],
   "source": [
    "# FUSION ENTRE \"df_actor_actress\" ET \"df_movie\"\n",
    "df_join_actor_movie = df_actor_actress.join(df_movie)\n",
    "df_join_actor_movie.set_index(\"nconst\", inplace=True)\n",
    "\n",
    "# FUSION DES DATAFRAMES \"df_join_actor_movie\" ET \"df_name_actor\"\n",
    "df_join_total = df_join_actor_movie.join(df_name_actor)\n",
    "df_join_total = df_join_total.reset_index()\n",
    "df_final = df_join_total.drop([\"nconst\"], axis=1)"
   ]
  },
  {
   "cell_type": "code",
   "execution_count": null,
   "metadata": {},
   "outputs": [],
   "source": [
    "# CREATION DU CSV\n",
    "df_final.to_csv(\"./data/CSV_FINI/df_final.csv\")"
   ]
  },
  {
   "cell_type": "code",
   "execution_count": null,
   "metadata": {},
   "outputs": [],
   "source": [
    "## SUPRESSION DES DATAFRAMES QUI NE SONT PLUS NECESSAIRES\n",
    "del df_actor_actress\n",
    "del df_join_actor_movie\n",
    "del df_join_total\n",
    "del df_movie\n",
    "del df_name_actor"
   ]
  },
  {
   "source": [
    "# La liste des films Américains (en gardant leur nom en français) et leur note moyenne"
   ],
   "cell_type": "markdown",
   "metadata": {}
  },
  {
   "cell_type": "code",
   "execution_count": null,
   "metadata": {},
   "outputs": [],
   "source": [
    "# CREATION ET MODIFICATION DU DATAFRAME \"rating\"\n",
    "global_rating = pd.read_csv(\"./data/RAW/title.ratings.tsv\", sep='\\t')\n",
    "df_rating = global_rating.drop([\"numVotes\"], axis=1)\n",
    "df_rating = df_rating.set_index(\"tconst\")"
   ]
  },
  {
   "cell_type": "code",
   "execution_count": null,
   "metadata": {},
   "outputs": [],
   "source": [
    "# CREATION ET MODIFICATION DU DATAFRAME \"us\"\n",
    "global_us = pd.read_csv(\"data/CURATED/title.akas/US.csv\")\n",
    "df_us = global_us.dropna()\n",
    "df_us = df_us.drop([\"ordering\",\"title\",\"region\",\"language\",\"types\",\"attributes\",\"isOriginalTitle\"],axis=1)\n",
    "df_us.set_index(\"titleId\", inplace=True)"
   ]
  },
  {
   "cell_type": "code",
   "execution_count": null,
   "metadata": {},
   "outputs": [],
   "source": [
    "# FUSION DES DATAFRAMES \"rating\" ET \"us\"\n",
    "df_rating_us = df_us.join(df_rating)"
   ]
  },
  {
   "cell_type": "code",
   "execution_count": null,
   "metadata": {},
   "outputs": [],
   "source": [
    "# CREATION ET MODIFICATION DU DATAFRAME \"basics\"\n",
    "global_basics = pd.read_csv(\"data/CURATED/title.basics/movie.csv\")\n",
    "df_basics = global_basics.dropna()\n",
    "df_basics = df_basics.drop([\"titleType\",\"primaryTitle\",\"isAdult\",\"startYear\",\"endYear\",\"runtimeMinutes\",\"genres\"],axis=1)\n",
    "df_basics.set_index(\"tconst\", inplace=True)"
   ]
  },
  {
   "cell_type": "code",
   "execution_count": null,
   "metadata": {},
   "outputs": [],
   "source": [
    "# FUSION DES DATAFRAMES \"rating_us\" ET \"basics\"\n",
    "df_total2 = df_rating_us.join(df_basics)\n",
    "df_final2 = df_total2.dropna()"
   ]
  },
  {
   "cell_type": "code",
   "execution_count": null,
   "metadata": {},
   "outputs": [],
   "source": [
    "# CREATION DU CSV\n",
    "df_final2.to_csv(\"./data/CSV_FINI/df_final2.csv\")"
   ]
  },
  {
   "cell_type": "code",
   "execution_count": null,
   "metadata": {},
   "outputs": [],
   "source": [
    "# SUPRESSION DES DATAFRAMES QUI NE SONT PLUS NECESSAIRES\n",
    "del df_basics\n",
    "del df_rating_us\n",
    "del df_rating\n",
    "del df_total2\n",
    "del df_us"
   ]
  },
  {
   "source": [
    "# Les notes moyennes des différents genres"
   ],
   "cell_type": "markdown",
   "metadata": {}
  },
  {
   "cell_type": "code",
   "execution_count": null,
   "metadata": {},
   "outputs": [],
   "source": [
    "# CREATION D'UNE COPIE DE \"global_basics\"\n",
    "df_basics = global_basics"
   ]
  },
  {
   "cell_type": "code",
   "execution_count": null,
   "metadata": {},
   "outputs": [],
   "source": [
    "# SPLIT DE LA COLONNE \"genres\"\n",
    "df_basics_genre = df_basics[\"genres\"].str.split(\",\", expand = True)"
   ]
  },
  {
   "cell_type": "code",
   "execution_count": null,
   "metadata": {},
   "outputs": [],
   "source": [
    "# FUSION DES DATAFRAMES \"df_basics\" ET \"df_basics_genre\"\n",
    "df_genre_basics_split = df_basics.join(df_basics_genre)"
   ]
  },
  {
   "cell_type": "code",
   "execution_count": null,
   "metadata": {},
   "outputs": [],
   "source": [
    "# MODIFICATION DU DATAFRAME \"df_genre_basics_split\"\n",
    "df_genre_basics_split = df_genre_basics_split.drop([\"genres\"], axis=1)\n",
    "df_genre_basics_split.rename(columns={0: \"genre1\", 1: \"genre2\", 2: \"genre3\"}, inplace=True)"
   ]
  },
  {
   "cell_type": "code",
   "execution_count": null,
   "metadata": {},
   "outputs": [],
   "source": [
    "# CREATION ET MODIFICATION DU DATAFRAME \"df_rating\"\n",
    "df_rating = global_rating\n",
    "df_genre_basics_split.set_index(\"tconst\", inplace=True)\n",
    "df_rating.set_index(\"tconst\", inplace=True)\n",
    "df_genre_rating = df_genre_basics_split.join(df_rating)\n",
    "df_genre_rating.drop([\"titleType\",\"primaryTitle\",\"originalTitle\", \"isAdult\", \"startYear\",\"endYear\",\"runtimeMinutes\",\"numVotes\"], axis=1, inplace=True)"
   ]
  },
  {
   "cell_type": "code",
   "execution_count": null,
   "metadata": {},
   "outputs": [],
   "source": [
    "# CREATION DES DATAFRAMES CONTENANTS LES GROUPBY DES DIFFERENTES COLONNES \"genre1\",\"genre2\" et \"genre3\"\n",
    "df_genre1 = df_genre_rating.groupby(\"genre1\").mean()\n",
    "df_genre2 = df_genre_rating.groupby(\"genre2\").mean()\n",
    "df_genre3 = df_genre_rating.groupby(\"genre3\").mean()"
   ]
  },
  {
   "cell_type": "code",
   "execution_count": null,
   "metadata": {},
   "outputs": [],
   "source": [
    "# FUSION DES DATAFRAMES \"df_genre1\",\"df_genre2\" ET \"df_genre3\"\n",
    "df_genre_total = pd.concat([df_genre1,df_genre2,df_genre3], axis=1, keys=[\"note1\",\"note2\",\"note3\"])"
   ]
  },
  {
   "cell_type": "code",
   "execution_count": null,
   "metadata": {},
   "outputs": [],
   "source": [
    "# MOYENNE DES 3 DATAFRAMES CI-DESSUS\n",
    "df_final3 = df_genre_total.mean(axis = 1)"
   ]
  },
  {
   "cell_type": "code",
   "execution_count": null,
   "metadata": {},
   "outputs": [],
   "source": [
    "# CREATION DU CSV\n",
    "df_final3.to_csv(\"./data/CSV_FINI/df_final3.csv\")"
   ]
  },
  {
   "cell_type": "code",
   "execution_count": null,
   "metadata": {},
   "outputs": [],
   "source": [
    "# SUPRESSION DES DATAFRAMES QUI NE SONT PLUS NECESSAIRES\n",
    "del df_rating\n",
    "del df_genre_total\n",
    "del df_genre_rating\n",
    "del df_genre_basics_split\n",
    "del df_genre1\n",
    "del df_genre2\n",
    "del df_genre3\n",
    "del df_basics_genre\n",
    "del df_basics\n",
    "del a\n"
   ]
  },
  {
   "cell_type": "code",
   "execution_count": null,
   "metadata": {},
   "outputs": [],
   "source": []
  }
 ]
}