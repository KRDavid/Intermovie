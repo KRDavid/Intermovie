{
 "metadata": {
  "language_info": {
   "codemirror_mode": {
    "name": "ipython",
    "version": 3
   },
   "file_extension": ".py",
   "mimetype": "text/x-python",
   "name": "python",
   "nbconvert_exporter": "python",
   "pygments_lexer": "ipython3",
   "version": "3.7.7-final"
  },
  "orig_nbformat": 2,
  "kernelspec": {
   "name": "Python 3.7.7 64-bit ('training': conda)",
   "display_name": "Python 3.7.7 64-bit ('training': conda)",
   "metadata": {
    "interpreter": {
     "hash": "d83991acb245e25b2480a4857d8149b749a9b5ad13dc2b639bb45e2f6a6854fa"
    }
   }
  }
 },
 "nbformat": 4,
 "nbformat_minor": 2,
 "cells": [
  {
   "source": [
    "## Import des librairies"
   ],
   "cell_type": "markdown",
   "metadata": {}
  },
  {
   "cell_type": "code",
   "execution_count": null,
   "metadata": {
    "tags": []
   },
   "outputs": [],
   "source": [
    "%load_ext autoreload\n",
    "%autoreload 2\n",
    "\n",
    "import pandas as pd\n",
    "import numpy as np\n",
    "import csv\n",
    "from functions import split\n",
    "import matplotlib.pyplot as plt"
   ]
  },
  {
   "source": [
    "## Préparation"
   ],
   "cell_type": "markdown",
   "metadata": {}
  },
  {
   "cell_type": "code",
   "execution_count": null,
   "metadata": {
    "tags": []
   },
   "outputs": [],
   "source": [
    "# CREATION DE L'INSTANCE \"SPLIT\"\n",
    "splitter_object = split.splitter(\"./data\", '\\t')\n",
    "\n",
    "splitter_object.file_splitter(\"title.principals.tsv\", \"category\", \"title.principals\")\n",
    "splitter_object.file_splitter(\"title.akas.tsv\", \"region\", \"title.akas\")\n",
    "splitter_object.file_splitter(\"title.basics.tsv\", \"titleType\", \"title.basics\")"
   ]
  },
  {
   "source": [
    "# La liste des acteurs par film"
   ],
   "cell_type": "markdown",
   "metadata": {}
  },
  {
   "cell_type": "code",
   "execution_count": null,
   "metadata": {},
   "outputs": [],
   "source": [
    "# CREATION ET MODIFICATION DES DATAFRAMES \"actor\" et \"actress\"\n",
    "global_actor = pd.read_table(\"./data/CURATED/title.principals/actor.csv\", sep=',')\n",
    "global_actress = pd.read_table(\"./data/CURATED/title.principals/actress.csv\", sep=',')\n",
    "df_actor_actress = pd.concat([global_actor,global_actress])\n",
    "df_actor_actress.drop([\"ordering\",\"category\",\"job\",\"characters\"], axis=1,inplace=True)"
   ]
  },
  {
   "cell_type": "code",
   "execution_count": null,
   "metadata": {},
   "outputs": [],
   "source": [
    "# CREATION ET MODIFICATION DES DATAFRAMES \"movie\"\n",
    "global_movie = pd.read_table(\"./data/CURATED/title.basics/movie.csv\", sep=',')\n",
    "df_movie = global_movie.drop([\"titleType\",\"primaryTitle\",\"isAdult\",\"startYear\",\"endYear\",\"runtimeMinutes\",\"genres\"], axis=1)\n",
    "\n",
    "# CREATION ET MODIFICATION DES DATAFRAMES \"name_actor\"\n",
    "global_name_actor = pd.read_table(\"./data/RAW/name.basics.tsv\", sep='\\t')\n",
    "df_name_actor = global_name_actor.dropna()\n",
    "df_name_actor = df_name_actor[[\"nconst\",\"primaryName\"]][df_name_actor[\"primaryProfession\"].str.contains(\"actor|actress\", regex=True)]\n",
    "\n",
    "# CHANGEMENT DES INDEX\n",
    "df_actor_actress.set_index(\"tconst\", inplace=True)\n",
    "df_movie.set_index(\"tconst\", inplace=True)\n",
    "df_name_actor.set_index(\"nconst\", inplace=True)"
   ]
  },
  {
   "cell_type": "code",
   "execution_count": null,
   "metadata": {},
   "outputs": [],
   "source": [
    "# FUSION ENTRE \"df_actor_actress\" ET \"df_movie\"\n",
    "df_join_actor_movie = df_actor_actress.join(df_movie)\n",
    "df_join_actor_movie.set_index(\"nconst\", inplace=True)\n",
    "\n",
    "# FUSION DES DATAFRAMES \"df_join_actor_movie\" ET \"df_name_actor\"\n",
    "df_join_total = df_join_actor_movie.join(df_name_actor)\n",
    "df_join_total = df_join_total.reset_index()\n",
    "df_final = df_join_total.drop([\"nconst\"], axis=1)"
   ]
  },
  {
   "cell_type": "code",
   "execution_count": null,
   "metadata": {},
   "outputs": [],
   "source": [
    "# CREATION DU CSV\n",
    "df_final.to_csv(\"./data/CSV_FINIS/df_final.csv\")"
   ]
  },
  {
   "cell_type": "code",
   "execution_count": null,
   "metadata": {},
   "outputs": [],
   "source": [
    "## SUPRESSION DES DATAFRAMES QUI NE SONT PLUS NECESSAIRES\n",
    "del df_actor_actress\n",
    "del df_join_actor_movie\n",
    "del df_join_total\n",
    "del df_movie\n",
    "del df_name_actor\n",
    "del df_final"
   ]
  },
  {
   "source": [
    "# La liste des films Américains (en gardant leur nom en français) et leur note moyenne"
   ],
   "cell_type": "markdown",
   "metadata": {}
  },
  {
   "cell_type": "code",
   "execution_count": null,
   "metadata": {},
   "outputs": [],
   "source": [
    "# CREATION ET MODIFICATION DU DATAFRAME \"rating\"\n",
    "global_rating = pd.read_csv(\"./data/RAW/title.ratings.tsv\", sep='\\t')\n",
    "df_rating = global_rating.drop([\"numVotes\"], axis=1)\n",
    "df_rating = df_rating.set_index(\"tconst\")"
   ]
  },
  {
   "cell_type": "code",
   "execution_count": null,
   "metadata": {},
   "outputs": [],
   "source": [
    "# CREATION ET MODIFICATION DU DATAFRAME \"us\"\n",
    "global_us = pd.read_csv(\"data/CURATED/title.akas/US.csv\")\n",
    "df_us = global_us.dropna()\n",
    "df_us = df_us.drop([\"ordering\",\"title\",\"region\",\"language\",\"types\",\"attributes\",\"isOriginalTitle\"],axis=1)\n",
    "df_us.set_index(\"titleId\", inplace=True)"
   ]
  },
  {
   "cell_type": "code",
   "execution_count": null,
   "metadata": {},
   "outputs": [],
   "source": [
    "# FUSION DES DATAFRAMES \"rating\" ET \"us\"\n",
    "df_rating_us = df_us.join(df_rating)"
   ]
  },
  {
   "cell_type": "code",
   "execution_count": null,
   "metadata": {},
   "outputs": [],
   "source": [
    "# CREATION ET MODIFICATION DU DATAFRAME \"basics\"\n",
    "global_basics = pd.read_csv(\"data/CURATED/title.basics/movie.csv\")\n",
    "df_basics = global_basics.dropna()\n",
    "df_basics = df_basics.drop([\"titleType\",\"primaryTitle\",\"isAdult\",\"startYear\",\"endYear\",\"runtimeMinutes\",\"genres\"],axis=1)\n",
    "df_basics.set_index(\"tconst\", inplace=True)"
   ]
  },
  {
   "cell_type": "code",
   "execution_count": null,
   "metadata": {},
   "outputs": [],
   "source": [
    "# FUSION DES DATAFRAMES \"rating_us\" ET \"basics\"\n",
    "df_total2 = df_rating_us.join(df_basics)\n",
    "df_final2 = df_total2.dropna()"
   ]
  },
  {
   "cell_type": "code",
   "execution_count": null,
   "metadata": {},
   "outputs": [],
   "source": [
    "# CREATION DU CSV\n",
    "df_final2.to_csv(\"./data/CSV_FINIS/df_final2.csv\")"
   ]
  },
  {
   "cell_type": "code",
   "execution_count": null,
   "metadata": {},
   "outputs": [],
   "source": [
    "# SUPRESSION DES DATAFRAMES QUI NE SONT PLUS NECESSAIRES\n",
    "del df_basics\n",
    "del df_rating_us\n",
    "del df_rating\n",
    "del df_total2\n",
    "del df_us\n",
    "del df_final2"
   ]
  },
  {
   "source": [
    "# Les notes moyennes des différents genres"
   ],
   "cell_type": "markdown",
   "metadata": {}
  },
  {
   "cell_type": "code",
   "execution_count": null,
   "metadata": {},
   "outputs": [],
   "source": [
    "# CREATION D'UNE COPIE DE \"global_basics\"\n",
    "df_basics = global_basics"
   ]
  },
  {
   "cell_type": "code",
   "execution_count": null,
   "metadata": {},
   "outputs": [],
   "source": [
    "# SPLIT DE LA COLONNE \"genres\"\n",
    "df_basics_genre = df_basics[\"genres\"].str.split(\",\", expand = True)"
   ]
  },
  {
   "cell_type": "code",
   "execution_count": null,
   "metadata": {},
   "outputs": [],
   "source": [
    "# FUSION DES DATAFRAMES \"df_basics\" ET \"df_basics_genre\"\n",
    "df_genre_basics_split = df_basics.join(df_basics_genre)"
   ]
  },
  {
   "cell_type": "code",
   "execution_count": null,
   "metadata": {},
   "outputs": [],
   "source": [
    "# MODIFICATION DU DATAFRAME \"df_genre_basics_split\"\n",
    "df_genre_basics_split = df_genre_basics_split.drop([\"genres\"], axis=1)\n",
    "df_genre_basics_split.rename(columns={0: \"genre1\", 1: \"genre2\", 2: \"genre3\"}, inplace=True)"
   ]
  },
  {
   "cell_type": "code",
   "execution_count": null,
   "metadata": {},
   "outputs": [],
   "source": [
    "# CREATION ET MODIFICATION DU DATAFRAME \"df_rating\"\n",
    "df_rating = global_rating\n",
    "df_genre_basics_split.set_index(\"tconst\", inplace=True)\n",
    "df_rating.set_index(\"tconst\", inplace=True)\n",
    "df_genre_rating = df_genre_basics_split.join(df_rating)\n",
    "df_genre_rating.drop([\"titleType\",\"primaryTitle\",\"originalTitle\", \"isAdult\", \"startYear\",\"endYear\",\"runtimeMinutes\",\"numVotes\"], axis=1, inplace=True)"
   ]
  },
  {
   "cell_type": "code",
   "execution_count": null,
   "metadata": {},
   "outputs": [],
   "source": [
    "# CREATION DES DATAFRAMES CONTENANTS LES GROUPBY DES DIFFERENTES COLONNES \"genre1\",\"genre2\" et \"genre3\"\n",
    "df_genre1 = df_genre_rating.groupby(\"genre1\").mean()\n",
    "df_genre2 = df_genre_rating.groupby(\"genre2\").mean()\n",
    "df_genre3 = df_genre_rating.groupby(\"genre3\").mean()"
   ]
  },
  {
   "cell_type": "code",
   "execution_count": null,
   "metadata": {},
   "outputs": [],
   "source": [
    "# FUSION DES DATAFRAMES \"df_genre1\",\"df_genre2\" ET \"df_genre3\"\n",
    "df_genre_total = pd.concat([df_genre1,df_genre2,df_genre3], axis=1, keys=[\"note1\",\"note2\",\"note3\"])"
   ]
  },
  {
   "cell_type": "code",
   "execution_count": null,
   "metadata": {},
   "outputs": [],
   "source": [
    "# MOYENNE DES 3 DATAFRAMES CI-DESSUS\n",
    "df_final3 = df_genre_total.mean(axis = 1)"
   ]
  },
  {
   "cell_type": "code",
   "execution_count": null,
   "metadata": {},
   "outputs": [],
   "source": [
    "# CREATION DU CSV\n",
    "df_final3.to_csv(\"./data/CSV_FINIS/df_final3.csv\")"
   ]
  },
  {
   "cell_type": "code",
   "execution_count": null,
   "metadata": {},
   "outputs": [],
   "source": [
    "# SUPRESSION DES DATAFRAMES QUI NE SONT PLUS NECESSAIRES\n",
    "del df_rating\n",
    "del df_genre_total\n",
    "del df_genre_rating\n",
    "del df_genre_basics_split\n",
    "del df_genre1\n",
    "del df_genre2\n",
    "del df_genre3\n",
    "del df_basics_genre\n",
    "del df_basics\n",
    "del df_final3\n"
   ]
  },
  {
   "cell_type": "code",
   "execution_count": 53,
   "metadata": {},
   "outputs": [],
   "source": []
  },
  {
   "source": [
    "# La note moyenne de chaque acteur par rapport aux films dans lesquels il apparaît"
   ],
   "cell_type": "markdown",
   "metadata": {}
  },
  {
   "cell_type": "code",
   "execution_count": 39,
   "metadata": {
    "tags": []
   },
   "outputs": [],
   "source": [
    "# CREATION ET MODIFICATION DES DATAFRAMES \"actor\" et \"actress\"\n",
    "df_actor_actress = pd.concat([global_actor,global_actress])\n",
    "df_actor_actress.drop([\"ordering\",\"category\",\"job\",\"characters\"], axis=1,inplace=True)\n",
    "\n",
    "# CREATION ET MODIFICATION DES DATAFRAMES \"movie\"\n",
    "global_movie = pd.read_table(\"./data/CURATED/title.basics/movie.csv\", sep=',')\n",
    "df_movie = global_movie.drop([\"titleType\",\"primaryTitle\",\"isAdult\",\"startYear\",\"endYear\",\"runtimeMinutes\",\"genres\"], axis=1)\n",
    "\n",
    "# CREATION ET MODIFICATION DU DATAFRAME \"name_actor\"\n",
    "global_name_actor = pd.read_table(\"./data/RAW/name.basics.tsv\", sep='\\t')\n",
    "df_name_actor = global_name_actor.dropna()\n",
    "df_name_actor = df_name_actor[[\"nconst\",\"primaryName\"]][df_name_actor[\"primaryProfession\"].str.contains(\"actor|actress\", regex=True)]\n",
    "\n",
    "# CREATION ET MODIFICATION DU DATAFRAME \"title.ratings\"\n",
    "df_rating = pd.read_csv(\"./data/RAW/title.ratings.tsv\", sep=\"\\t\")\n",
    "df_rating = df_rating.drop([\"numVotes\"], axis=1)\n",
    "\n",
    "# CHANGEMENT DES INDEX\n",
    "df_rating.set_index(\"tconst\", inplace=True)\n",
    "df_actor_actress.set_index(\"tconst\", inplace=True)\n",
    "df_movie.set_index(\"tconst\", inplace=True)\n",
    "df_name_actor.set_index(\"nconst\", inplace=True)\n",
    "\n",
    "# FUSION ENTRE \"df_actor_actress\" ET \"df_movie\"\n",
    "df_join_actor_movie = df_actor_actress.join(df_movie)\n",
    "df_join_actor_movie = df_join_actor_movie.join(df_rating)\n",
    "df_join_actor_movie.set_index(\"nconst\", inplace=True)\n",
    "\n",
    "# FUSION DES DATAFRAMES \"df_join_actor_movie\" ET \"df_name_actor\"\n",
    "df_join_total = df_join_actor_movie.join(df_name_actor)\n",
    "df_join_total = df_join_total.reset_index()\n",
    "df_final4 = df_join_total.drop([\"nconst\"], axis=1)\n",
    "\n",
    "# MODIFICATION DU DATAFRAME \"df_final4\"\n",
    "df_final4 = df_final4.dropna()\n",
    "\n",
    "# CREATION DU DATAFRAME CONTENANT LE GROUPBY DE \"primaryName\"\n",
    "df_final4 = df_final4.groupby(\"primaryName\").mean()\n",
    "\n",
    "# CREATION DU CSV\n",
    "df_final4.to_csv(\"./data/CSV_FINIS/df_final4.csv\")\n",
    "\n",
    "## SUPRESSION DES DATAFRAMES QUI NE SONT PLUS NECESSAIRES\n",
    "del df_actor_actress\n",
    "del df_join_actor_movie\n",
    "del df_join_total\n",
    "del df_movie\n",
    "del df_name_actor\n",
    "del df_rating\n",
    "del df_final4\n"
   ]
  },
  {
   "source": [
    "# BONUS PERSO : Je souhaite trouver les films où joue Edward Norton"
   ],
   "cell_type": "markdown",
   "metadata": {}
  },
  {
   "cell_type": "code",
   "execution_count": 54,
   "metadata": {},
   "outputs": [],
   "source": [
    "df_actor_actress = pd.concat([global_actor,global_actress])\n",
    "df_actor_actress.drop([\"ordering\",\"category\",\"job\",\"characters\"], axis=1,inplace=True)\n",
    "\n",
    "# CREATION ET MODIFICATION DES DATAFRAMES \"movie\"\n",
    "global_movie = pd.read_table(\"./data/CURATED/title.basics/movie.csv\", sep=',')\n",
    "df_movie = global_movie.drop([\"titleType\",\"primaryTitle\",\"isAdult\",\"startYear\",\"endYear\",\"runtimeMinutes\",\"genres\"], axis=1)\n",
    "\n",
    "# CREATION ET MODIFICATION DES DATAFRAMES \"name_actor\"\n",
    "global_name_actor = pd.read_table(\"./data/RAW/name.basics.tsv\", sep='\\t')\n",
    "df_name_actor = global_name_actor.dropna()\n",
    "df_name_actor = df_name_actor[[\"nconst\",\"primaryName\"]][df_name_actor[\"primaryProfession\"].str.contains(\"actor|actress\", regex=True)]\n",
    "\n",
    "# CHANGEMENT DES INDEX\n",
    "df_actor_actress.set_index(\"tconst\", inplace=True)\n",
    "df_movie.set_index(\"tconst\", inplace=True)\n",
    "df_name_actor.set_index(\"nconst\", inplace=True)\n",
    "\n",
    "# FUSION ENTRE \"df_actor_actress\" ET \"df_movie\"\n",
    "df_join_actor_movie = df_actor_actress.join(df_movie)\n",
    "df_join_actor_movie.set_index(\"nconst\", inplace=True)\n",
    "\n",
    "# FUSION DES DATAFRAMES \"df_join_actor_movie\" ET \"df_name_actor\"\n",
    "df_join_total = df_join_actor_movie.join(df_name_actor)\n",
    "df_join_total = df_join_total.reset_index()\n",
    "df_final = df_join_total.drop([\"nconst\"], axis=1)\n",
    "\n"
   ]
  },
  {
   "cell_type": "code",
   "execution_count": 55,
   "metadata": {},
   "outputs": [
    {
     "output_type": "execute_result",
     "data": {
      "text/plain": "                          originalTitle   primaryName\n0                      The Gay Divorcee  Fred Astaire\n1                               Roberta  Fred Astaire\n2                               Top Hat  Fred Astaire\n3                      Follow the Fleet  Fred Astaire\n4                            Swing Time  Fred Astaire\n5                  A Damsel in Distress  Fred Astaire\n6                        Shall We Dance  Fred Astaire\n7                              Carefree  Fred Astaire\n8  The Story of Vernon and Irene Castle  Fred Astaire\n9               Broadway Melody of 1940  Fred Astaire",
      "text/html": "<div>\n<style scoped>\n    .dataframe tbody tr th:only-of-type {\n        vertical-align: middle;\n    }\n\n    .dataframe tbody tr th {\n        vertical-align: top;\n    }\n\n    .dataframe thead th {\n        text-align: right;\n    }\n</style>\n<table border=\"1\" class=\"dataframe\">\n  <thead>\n    <tr style=\"text-align: right;\">\n      <th></th>\n      <th>originalTitle</th>\n      <th>primaryName</th>\n    </tr>\n  </thead>\n  <tbody>\n    <tr>\n      <th>0</th>\n      <td>The Gay Divorcee</td>\n      <td>Fred Astaire</td>\n    </tr>\n    <tr>\n      <th>1</th>\n      <td>Roberta</td>\n      <td>Fred Astaire</td>\n    </tr>\n    <tr>\n      <th>2</th>\n      <td>Top Hat</td>\n      <td>Fred Astaire</td>\n    </tr>\n    <tr>\n      <th>3</th>\n      <td>Follow the Fleet</td>\n      <td>Fred Astaire</td>\n    </tr>\n    <tr>\n      <th>4</th>\n      <td>Swing Time</td>\n      <td>Fred Astaire</td>\n    </tr>\n    <tr>\n      <th>5</th>\n      <td>A Damsel in Distress</td>\n      <td>Fred Astaire</td>\n    </tr>\n    <tr>\n      <th>6</th>\n      <td>Shall We Dance</td>\n      <td>Fred Astaire</td>\n    </tr>\n    <tr>\n      <th>7</th>\n      <td>Carefree</td>\n      <td>Fred Astaire</td>\n    </tr>\n    <tr>\n      <th>8</th>\n      <td>The Story of Vernon and Irene Castle</td>\n      <td>Fred Astaire</td>\n    </tr>\n    <tr>\n      <th>9</th>\n      <td>Broadway Melody of 1940</td>\n      <td>Fred Astaire</td>\n    </tr>\n  </tbody>\n</table>\n</div>"
     },
     "metadata": {},
     "execution_count": 55
    }
   ],
   "source": [
    "df_final[:10]"
   ]
  },
  {
   "cell_type": "code",
   "execution_count": 60,
   "metadata": {},
   "outputs": [],
   "source": [
    "df_final = df_final.dropna()"
   ]
  },
  {
   "cell_type": "code",
   "execution_count": 64,
   "metadata": {},
   "outputs": [],
   "source": [
    "df_edward_norton = df_final[[\"originalTitle\",\"primaryName\"]][df_final[\"primaryName\"].str.contains(\"Edward Norton\")]"
   ]
  },
  {
   "cell_type": "code",
   "execution_count": 62,
   "metadata": {},
   "outputs": [
    {
     "output_type": "execute_result",
     "data": {
      "text/plain": "                                          originalTitle    primaryName\n196419                         Everyone Says I Love You  Edward Norton\n196420                       The People vs. Larry Flynt  Edward Norton\n196421                                      Primal Fear  Edward Norton\n196422                               American History X  Edward Norton\n196423                                         Rounders  Edward Norton\n196424                                       Fight Club  Edward Norton\n196425                                  Out of the Past  Edward Norton\n196426                                Keeping the Faith  Edward Norton\n196427                                        The Score  Edward Norton\n196428                                 Death to Smoochy  Edward Norton\n196429                                       Red Dragon  Edward Norton\n196430                                        25th Hour  Edward Norton\n196431                                  The Italian Job  Edward Norton\n196432                              Motherless Brooklyn  Edward Norton\n196433                               Down in the Valley  Edward Norton\n196434                                  The Illusionist  Edward Norton\n196435                                 The Painted Veil  Edward Norton\n196438                                  Pride and Glory  Edward Norton\n196439                              The Incredible Hulk  Edward Norton\n196444                                  Leaves of Grass  Edward Norton\n196445                                The Bourne Legacy  Edward Norton\n196447                                            Stone  Edward Norton\n196448                                The Apple Pushers  Edward Norton\n196449  Birdman or (The Unexpected Virtue of Ignorance)  Edward Norton\n196451                                Collateral Beauty  Edward Norton\n196452                                     Isle of Dogs  Edward Norton",
      "text/html": "<div>\n<style scoped>\n    .dataframe tbody tr th:only-of-type {\n        vertical-align: middle;\n    }\n\n    .dataframe tbody tr th {\n        vertical-align: top;\n    }\n\n    .dataframe thead th {\n        text-align: right;\n    }\n</style>\n<table border=\"1\" class=\"dataframe\">\n  <thead>\n    <tr style=\"text-align: right;\">\n      <th></th>\n      <th>originalTitle</th>\n      <th>primaryName</th>\n    </tr>\n  </thead>\n  <tbody>\n    <tr>\n      <th>196419</th>\n      <td>Everyone Says I Love You</td>\n      <td>Edward Norton</td>\n    </tr>\n    <tr>\n      <th>196420</th>\n      <td>The People vs. Larry Flynt</td>\n      <td>Edward Norton</td>\n    </tr>\n    <tr>\n      <th>196421</th>\n      <td>Primal Fear</td>\n      <td>Edward Norton</td>\n    </tr>\n    <tr>\n      <th>196422</th>\n      <td>American History X</td>\n      <td>Edward Norton</td>\n    </tr>\n    <tr>\n      <th>196423</th>\n      <td>Rounders</td>\n      <td>Edward Norton</td>\n    </tr>\n    <tr>\n      <th>196424</th>\n      <td>Fight Club</td>\n      <td>Edward Norton</td>\n    </tr>\n    <tr>\n      <th>196425</th>\n      <td>Out of the Past</td>\n      <td>Edward Norton</td>\n    </tr>\n    <tr>\n      <th>196426</th>\n      <td>Keeping the Faith</td>\n      <td>Edward Norton</td>\n    </tr>\n    <tr>\n      <th>196427</th>\n      <td>The Score</td>\n      <td>Edward Norton</td>\n    </tr>\n    <tr>\n      <th>196428</th>\n      <td>Death to Smoochy</td>\n      <td>Edward Norton</td>\n    </tr>\n    <tr>\n      <th>196429</th>\n      <td>Red Dragon</td>\n      <td>Edward Norton</td>\n    </tr>\n    <tr>\n      <th>196430</th>\n      <td>25th Hour</td>\n      <td>Edward Norton</td>\n    </tr>\n    <tr>\n      <th>196431</th>\n      <td>The Italian Job</td>\n      <td>Edward Norton</td>\n    </tr>\n    <tr>\n      <th>196432</th>\n      <td>Motherless Brooklyn</td>\n      <td>Edward Norton</td>\n    </tr>\n    <tr>\n      <th>196433</th>\n      <td>Down in the Valley</td>\n      <td>Edward Norton</td>\n    </tr>\n    <tr>\n      <th>196434</th>\n      <td>The Illusionist</td>\n      <td>Edward Norton</td>\n    </tr>\n    <tr>\n      <th>196435</th>\n      <td>The Painted Veil</td>\n      <td>Edward Norton</td>\n    </tr>\n    <tr>\n      <th>196438</th>\n      <td>Pride and Glory</td>\n      <td>Edward Norton</td>\n    </tr>\n    <tr>\n      <th>196439</th>\n      <td>The Incredible Hulk</td>\n      <td>Edward Norton</td>\n    </tr>\n    <tr>\n      <th>196444</th>\n      <td>Leaves of Grass</td>\n      <td>Edward Norton</td>\n    </tr>\n    <tr>\n      <th>196445</th>\n      <td>The Bourne Legacy</td>\n      <td>Edward Norton</td>\n    </tr>\n    <tr>\n      <th>196447</th>\n      <td>Stone</td>\n      <td>Edward Norton</td>\n    </tr>\n    <tr>\n      <th>196448</th>\n      <td>The Apple Pushers</td>\n      <td>Edward Norton</td>\n    </tr>\n    <tr>\n      <th>196449</th>\n      <td>Birdman or (The Unexpected Virtue of Ignorance)</td>\n      <td>Edward Norton</td>\n    </tr>\n    <tr>\n      <th>196451</th>\n      <td>Collateral Beauty</td>\n      <td>Edward Norton</td>\n    </tr>\n    <tr>\n      <th>196452</th>\n      <td>Isle of Dogs</td>\n      <td>Edward Norton</td>\n    </tr>\n  </tbody>\n</table>\n</div>"
     },
     "metadata": {},
     "execution_count": 62
    }
   ],
   "source": [
    "df_edward_norton"
   ]
  },
  {
   "cell_type": "code",
   "execution_count": 69,
   "metadata": {},
   "outputs": [],
   "source": [
    "del df_actor_actress\n",
    "del df_join_actor_movie\n",
    "del df_join_total\n",
    "del df_movie\n",
    "del df_name_actor\n",
    "del df_final"
   ]
  }
 ]
}