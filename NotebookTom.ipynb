{
 "metadata": {
  "language_info": {
   "codemirror_mode": {
    "name": "ipython",
    "version": 3
   },
   "file_extension": ".py",
   "mimetype": "text/x-python",
   "name": "python",
   "nbconvert_exporter": "python",
   "pygments_lexer": "ipython3",
   "version": "3.7.9-final"
  },
  "orig_nbformat": 2,
  "kernelspec": {
   "name": "Python 3.7.9 64-bit ('intermovie': conda)",
   "display_name": "Python 3.7.9 64-bit ('intermovie': conda)",
   "metadata": {
    "interpreter": {
     "hash": "e158c6071094e0b3fdd2c320e554ca330ac70e308835a49627938a89d3ec7dcb"
    }
   }
  }
 },
 "nbformat": 4,
 "nbformat_minor": 2,
 "cells": [
  {
   "source": [
    "## Import des librairies"
   ],
   "cell_type": "markdown",
   "metadata": {}
  },
  {
   "cell_type": "code",
   "execution_count": 1,
   "metadata": {
    "tags": []
   },
   "outputs": [],
   "source": [
    "%load_ext autoreload\n",
    "%autoreload 2\n",
    "\n",
    "import pandas as pd\n",
    "import numpy as np\n",
    "import csv\n",
    "from functions import split\n",
    "import matplotlib.pyplot as plt"
   ]
  },
  {
   "source": [
    "## Préparation"
   ],
   "cell_type": "markdown",
   "metadata": {}
  },
  {
   "cell_type": "code",
   "execution_count": null,
   "metadata": {},
   "outputs": [],
   "source": [
    "# CREATION DE L'INSTANCE \"SPLIT\"\n",
    "splitter_object = split.splitter(\"./data\", '\\t')\n",
    "\n",
    "splitter_object.file_splitter(\"title.principals.tsv\", \"category\", \"title.principals\")\n",
    "splitter_object.file_splitter(\"title.akas.tsv\", \"region\", \"title.akas\")\n",
    "splitter_object.file_splitter(\"title.basics.tsv\", \"titleType\", \"title.basics\")"
   ]
  },
  {
   "source": [
    "# La liste des acteurs par film"
   ],
   "cell_type": "markdown",
   "metadata": {}
  },
  {
   "cell_type": "code",
   "execution_count": 2,
   "metadata": {},
   "outputs": [],
   "source": [
    "# CREATION ET MODIFICATION DES DATAFRAMES \"actor\" et \"actress\"\n",
    "global_actor = pd.read_table(\"./data/CURATED/title.principals/actor.csv\", sep=',')\n",
    "global_actress = pd.read_table(\"./data/CURATED/title.principals/actress.csv\", sep=',')\n",
    "df_actor_actress = pd.concat([global_actor,global_actress])\n",
    "df_actor_actress.drop([\"ordering\",\"category\",\"job\",\"characters\"], axis=1,inplace=True)"
   ]
  },
  {
   "cell_type": "code",
   "execution_count": 3,
   "metadata": {},
   "outputs": [],
   "source": [
    "# CREATION ET MODIFICATION DES DATAFRAMES \"movie\"\n",
    "global_movie = pd.read_table(\"./data/CURATED/title.basics/movie.csv\", sep=',')\n",
    "df_movie = global_movie.drop([\"titleType\",\"primaryTitle\",\"isAdult\",\"startYear\",\"endYear\",\"runtimeMinutes\",\"genres\"], axis=1)\n",
    "\n",
    "# CREATION ET MODIFICATION DES DATAFRAMES \"name_actor\"\n",
    "global_name_actor = pd.read_table(\"./data/RAW/name.basics.tsv\", sep='\\t')\n",
    "df_name_actor = global_name_actor.dropna()\n",
    "df_name_actor = df_name_actor[[\"nconst\",\"primaryName\"]][df_name_actor[\"primaryProfession\"].str.contains(\"actor|actress\", regex=True)]\n",
    "\n",
    "# CHANGEMENT DES INDEX\n",
    "df_actor_actress.set_index(\"tconst\", inplace=True)\n",
    "df_movie.set_index(\"tconst\", inplace=True)\n",
    "df_name_actor.set_index(\"nconst\", inplace=True)"
   ]
  },
  {
   "cell_type": "code",
   "execution_count": 4,
   "metadata": {},
   "outputs": [],
   "source": [
    "# FUSION ENTRE \"df_actor_actress\" ET \"df_movie\"\n",
    "df_join_actor_movie = df_actor_actress.join(df_movie)\n",
    "df_join_actor_movie.set_index(\"nconst\", inplace=True)\n",
    "\n",
    "# FUSION DES DATAFRAMES \"df_join_actor_movie\" ET \"df_name_actor\"\n",
    "df_join_total = df_join_actor_movie.join(df_name_actor)\n",
    "df_join_total = df_join_total.reset_index()\n",
    "df_final = df_join_total.drop([\"nconst\"], axis=1)"
   ]
  },
  {
   "cell_type": "code",
   "execution_count": 22,
   "metadata": {},
   "outputs": [],
   "source": [
    "## SUPRESSION DES DATAFRAMES QUI NE SONT PLUS NECESSAIRES\n",
    "del df_actor_actress\n",
    "del df_join_actor_movie\n",
    "del df_join_total\n",
    "del df_movie\n",
    "del df_name_actor"
   ]
  },
  {
   "source": [
    "# La liste des films Américains (en gardant leur nom en français) et leur note moyenne"
   ],
   "cell_type": "markdown",
   "metadata": {}
  },
  {
   "cell_type": "code",
   "execution_count": 24,
   "metadata": {},
   "outputs": [],
   "source": [
    "# CREATION ET MODIFICATION DU DATAFRAME \"rating\"\n",
    "global_rating = pd.read_csv(\"./data/RAW/title.ratings.tsv\", sep='\\t')\n",
    "df_rating = global_rating.drop([\"numVotes\"], axis=1)\n",
    "df_rating = df_rating.set_index(\"tconst\")"
   ]
  },
  {
   "cell_type": "code",
   "execution_count": 25,
   "metadata": {},
   "outputs": [],
   "source": [
    "# CREATION ET MODIFICATION DU DATAFRAME \"us\"\n",
    "global_us = pd.read_csv(\"data/CURATED/title.akas/US.csv\")\n",
    "df_us = global_us.dropna()\n",
    "df_us = df_us.drop([\"ordering\",\"title\",\"region\",\"language\",\"types\",\"attributes\",\"isOriginalTitle\"],axis=1)\n",
    "df_us.set_index(\"titleId\", inplace=True)"
   ]
  },
  {
   "cell_type": "code",
   "execution_count": 26,
   "metadata": {},
   "outputs": [],
   "source": [
    "# FUSION DES DATAFRAMES \"rating\" ET \"us\"\n",
    "df_rating_us = df_us.join(df_rating)"
   ]
  },
  {
   "cell_type": "code",
   "execution_count": 27,
   "metadata": {},
   "outputs": [],
   "source": [
    "# CREATION ET MODIFICATION DU DATAFRAME \"basics\"\n",
    "global_basics = pd.read_csv(\"data/CURATED/title.basics/movie.csv\")\n",
    "df_basics = global_basics.dropna()\n",
    "df_basics = df_basics.drop([\"titleType\",\"primaryTitle\",\"isAdult\",\"startYear\",\"endYear\",\"runtimeMinutes\",\"genres\"],axis=1)\n",
    "df_basics.set_index(\"tconst\", inplace=True)"
   ]
  },
  {
   "cell_type": "code",
   "execution_count": 28,
   "metadata": {},
   "outputs": [],
   "source": [
    "# FUSION DES DATAFRAMES \"rating_us\" ET \"basics\"\n",
    "df_total2 = df_rating_us.join(df_basics)\n",
    "df_final2 = df_total2.dropna()"
   ]
  },
  {
   "cell_type": "code",
   "execution_count": 29,
   "metadata": {},
   "outputs": [],
   "source": [
    "# SUPRESSION DES DATAFRAMES QUI NE SONT PLUS NECESSAIRES\n",
    "del df_basics\n",
    "del df_rating_us\n",
    "del df_rating\n",
    "del df_total2\n",
    "del df_us"
   ]
  },
  {
   "source": [
    "# Les notes moyennes des différents genres"
   ],
   "cell_type": "markdown",
   "metadata": {}
  },
  {
   "cell_type": "code",
   "execution_count": 34,
   "metadata": {},
   "outputs": [
    {
     "output_type": "execute_result",
     "data": {
      "text/plain": "      tconst titleType                   primaryTitle  \\\n0  tt0000009     movie                     Miss Jerry   \n1  tt0000147     movie  The Corbett-Fitzsimmons Fight   \n\n                   originalTitle  isAdult startYear endYear runtimeMinutes  \\\n0                     Miss Jerry        0      1894      \\N             45   \n1  The Corbett-Fitzsimmons Fight        0      1897      \\N             20   \n\n                   genres  \n0                 Romance  \n1  Documentary,News,Sport  ",
      "text/html": "<div>\n<style scoped>\n    .dataframe tbody tr th:only-of-type {\n        vertical-align: middle;\n    }\n\n    .dataframe tbody tr th {\n        vertical-align: top;\n    }\n\n    .dataframe thead th {\n        text-align: right;\n    }\n</style>\n<table border=\"1\" class=\"dataframe\">\n  <thead>\n    <tr style=\"text-align: right;\">\n      <th></th>\n      <th>tconst</th>\n      <th>titleType</th>\n      <th>primaryTitle</th>\n      <th>originalTitle</th>\n      <th>isAdult</th>\n      <th>startYear</th>\n      <th>endYear</th>\n      <th>runtimeMinutes</th>\n      <th>genres</th>\n    </tr>\n  </thead>\n  <tbody>\n    <tr>\n      <th>0</th>\n      <td>tt0000009</td>\n      <td>movie</td>\n      <td>Miss Jerry</td>\n      <td>Miss Jerry</td>\n      <td>0</td>\n      <td>1894</td>\n      <td>\\N</td>\n      <td>45</td>\n      <td>Romance</td>\n    </tr>\n    <tr>\n      <th>1</th>\n      <td>tt0000147</td>\n      <td>movie</td>\n      <td>The Corbett-Fitzsimmons Fight</td>\n      <td>The Corbett-Fitzsimmons Fight</td>\n      <td>0</td>\n      <td>1897</td>\n      <td>\\N</td>\n      <td>20</td>\n      <td>Documentary,News,Sport</td>\n    </tr>\n  </tbody>\n</table>\n</div>"
     },
     "metadata": {},
     "execution_count": 34
    }
   ],
   "source": [
    "global_basics[:2]"
   ]
  },
  {
   "cell_type": "code",
   "execution_count": 35,
   "metadata": {},
   "outputs": [],
   "source": [
    "global_genre = pd.read_csv(\"data/RAW/name.basics.tsv\", sep=\"\\t\")"
   ]
  }
 ]
}