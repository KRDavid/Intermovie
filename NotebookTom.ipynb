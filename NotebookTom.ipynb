{
 "metadata": {
  "language_info": {
   "codemirror_mode": {
    "name": "ipython",
    "version": 3
   },
   "file_extension": ".py",
   "mimetype": "text/x-python",
   "name": "python",
   "nbconvert_exporter": "python",
   "pygments_lexer": "ipython3",
   "version": "3.7.7-final"
  },
  "orig_nbformat": 2,
  "kernelspec": {
   "name": "Python 3.7.7 64-bit ('training': conda)",
   "display_name": "Python 3.7.7 64-bit ('training': conda)",
   "metadata": {
    "interpreter": {
     "hash": "d83991acb245e25b2480a4857d8149b749a9b5ad13dc2b639bb45e2f6a6854fa"
    }
   }
  }
 },
 "nbformat": 4,
 "nbformat_minor": 2,
 "cells": [
  {
   "source": [
    "## Import des librairies"
   ],
   "cell_type": "markdown",
   "metadata": {}
  },
  {
   "cell_type": "code",
   "execution_count": 1,
   "metadata": {
    "tags": []
   },
   "outputs": [],
   "source": [
    "%load_ext autoreload\n",
    "%autoreload 2\n",
    "\n",
    "from functions import download\n",
    "from functions import split\n",
    "\n",
    "import pandas as pd\n",
    "import numpy as np\n",
    "import csv\n",
    "import matplotlib.pyplot as plt"
   ]
  },
  {
   "source": [
    "## Préparation"
   ],
   "cell_type": "markdown",
   "metadata": {}
  },
  {
   "cell_type": "code",
   "execution_count": 2,
   "metadata": {
    "tags": []
   },
   "outputs": [
    {
     "output_type": "stream",
     "name": "stdout",
     "text": "Data downloading...\n[■■■■■■■■■■■■■■■■■■■■■■■■■■■■■■■■■■■■■■■■■■■■■■■■■■]Download finished\nData extracting...\nExtraction complete\n"
    }
   ],
   "source": [
    "\n",
    "# Création de l'instance de classe\n",
    "download_object = download.downloader(\"./data\")\n",
    "\n",
    "# Téléchargement du fichier\n",
    "download_object.data_download(\"data_file.zip\", 'https://stdatalake005.blob.core.windows.net/public/movies_dataset.zip')\n",
    "\n",
    "# Extraction du fichier\n",
    "download_object.data_extract(\"data_file.zip\")"
   ]
  },
  {
   "cell_type": "code",
   "execution_count": 3,
   "metadata": {
    "tags": []
   },
   "outputs": [
    {
     "output_type": "stream",
     "name": "stdout",
     "text": "Split fichier title.principals.tsv terminé\nSplit fichier title.akas.tsv terminé\nSplit fichier title.basics.tsv terminé\n"
    }
   ],
   "source": [
    "# CREATION DE L'INSTANCE \"SPLIT\"\n",
    "splitter_object = split.splitter(\"./data\", '\\t')\n",
    "\n",
    "splitter_object.file_splitter(\"title.principals.tsv\", \"category\", \"title.principals\")\n",
    "splitter_object.file_splitter(\"title.akas.tsv\", \"region\", \"title.akas\")\n",
    "splitter_object.file_splitter(\"title.basics.tsv\", \"titleType\", \"title.basics\")"
   ]
  },
  {
   "source": [
    "# La liste des acteurs par film"
   ],
   "cell_type": "markdown",
   "metadata": {}
  },
  {
   "cell_type": "code",
   "execution_count": 4,
   "metadata": {},
   "outputs": [],
   "source": [
    "# CREATION ET MODIFICATION DES DATAFRAMES \"actor\" et \"actress\"\n",
    "global_actor = pd.read_table(\"./data/CURATED/title.principals/actor.csv\", sep=',')\n",
    "global_actress = pd.read_table(\"./data/CURATED/title.principals/actress.csv\", sep=',')\n",
    "df_actor_actress = pd.concat([global_actor,global_actress])\n",
    "df_actor_actress.drop([\"ordering\",\"category\",\"job\",\"characters\"], axis=1,inplace=True)"
   ]
  },
  {
   "cell_type": "code",
   "execution_count": 5,
   "metadata": {},
   "outputs": [],
   "source": [
    "# CREATION ET MODIFICATION DES DATAFRAMES \"movie\"\n",
    "global_movie = pd.read_table(\"./data/CURATED/title.basics/movie.csv\", sep=',')\n",
    "df_movie = global_movie.drop([\"titleType\",\"primaryTitle\",\"isAdult\",\"startYear\",\"endYear\",\"runtimeMinutes\",\"genres\"], axis=1)\n",
    "\n",
    "# CREATION ET MODIFICATION DES DATAFRAMES \"name_actor\"\n",
    "global_name_actor = pd.read_table(\"./data/RAW/name.basics.tsv\", sep='\\t')\n",
    "df_name_actor = global_name_actor.dropna()\n",
    "df_name_actor = df_name_actor[[\"nconst\",\"primaryName\"]][df_name_actor[\"primaryProfession\"].str.contains(\"actor|actress\", regex=True)]\n",
    "\n",
    "# CHANGEMENT DES INDEX\n",
    "df_actor_actress.set_index(\"tconst\", inplace=True)\n",
    "df_movie.set_index(\"tconst\", inplace=True)\n",
    "df_name_actor.set_index(\"nconst\", inplace=True)"
   ]
  },
  {
   "cell_type": "code",
   "execution_count": 6,
   "metadata": {},
   "outputs": [],
   "source": [
    "# FUSION ENTRE \"df_actor_actress\" ET \"df_movie\"\n",
    "df_join_actor_movie = df_actor_actress.join(df_movie)\n",
    "df_join_actor_movie.set_index(\"nconst\", inplace=True)\n",
    "\n",
    "# FUSION DES DATAFRAMES \"df_join_actor_movie\" ET \"df_name_actor\"\n",
    "df_join_total = df_join_actor_movie.join(df_name_actor)\n",
    "df_join_total = df_join_total.reset_index()\n",
    "df_final = df_join_total.drop([\"nconst\"], axis=1)"
   ]
  },
  {
   "cell_type": "code",
   "execution_count": 7,
   "metadata": {},
   "outputs": [],
   "source": [
    "# CREATION DU CSV\n",
    "df_final.to_csv(\"./data/OUTPUT/df_final.csv\")"
   ]
  },
  {
   "cell_type": "code",
   "execution_count": 8,
   "metadata": {},
   "outputs": [],
   "source": [
    "## SUPRESSION DES DATAFRAMES QUI NE SONT PLUS NECESSAIRES\n",
    "del df_actor_actress\n",
    "del df_join_actor_movie\n",
    "del df_join_total\n",
    "del df_movie\n",
    "del df_name_actor\n",
    "del df_final"
   ]
  },
  {
   "source": [
    "# La liste des films Américains (en gardant leur nom en français) et leur note moyenne"
   ],
   "cell_type": "markdown",
   "metadata": {}
  },
  {
   "cell_type": "code",
   "execution_count": 9,
   "metadata": {},
   "outputs": [],
   "source": [
    "# CREATION ET MODIFICATION DU DATAFRAME \"rating\"\n",
    "global_rating = pd.read_csv(\"./data/RAW/title.ratings.tsv\", sep='\\t')\n",
    "df_rating = global_rating.drop([\"numVotes\"], axis=1)\n",
    "df_rating = df_rating.set_index(\"tconst\")"
   ]
  },
  {
   "cell_type": "code",
   "execution_count": 10,
   "metadata": {},
   "outputs": [],
   "source": [
    "# CREATION ET MODIFICATION DU DATAFRAME \"us\"\n",
    "global_us = pd.read_csv(\"data/CURATED/title.akas/US.csv\")\n",
    "df_us = global_us.dropna()\n",
    "df_us = df_us.drop([\"ordering\",\"title\",\"region\",\"language\",\"types\",\"attributes\",\"isOriginalTitle\"],axis=1)\n",
    "df_us.set_index(\"titleId\", inplace=True)"
   ]
  },
  {
   "cell_type": "code",
   "execution_count": 11,
   "metadata": {},
   "outputs": [],
   "source": [
    "# FUSION DES DATAFRAMES \"rating\" ET \"us\"\n",
    "df_rating_us = df_us.join(df_rating)"
   ]
  },
  {
   "cell_type": "code",
   "execution_count": 12,
   "metadata": {},
   "outputs": [],
   "source": [
    "# CREATION ET MODIFICATION DU DATAFRAME \"basics\"\n",
    "global_basics = pd.read_csv(\"data/CURATED/title.basics/movie.csv\")\n",
    "df_basics = global_basics.dropna()\n",
    "df_basics = df_basics.drop([\"titleType\",\"primaryTitle\",\"isAdult\",\"startYear\",\"endYear\",\"runtimeMinutes\",\"genres\"],axis=1)\n",
    "df_basics.set_index(\"tconst\", inplace=True)"
   ]
  },
  {
   "cell_type": "code",
   "execution_count": 13,
   "metadata": {},
   "outputs": [],
   "source": [
    "# FUSION DES DATAFRAMES \"rating_us\" ET \"basics\"\n",
    "df_total2 = df_rating_us.join(df_basics)\n",
    "df_final2 = df_total2.dropna()"
   ]
  },
  {
   "cell_type": "code",
   "execution_count": 14,
   "metadata": {},
   "outputs": [],
   "source": [
    "# CREATION DU CSV\n",
    "df_final2.to_csv(\"./data/OUTPUT/df_final2.csv\")"
   ]
  },
  {
   "cell_type": "code",
   "execution_count": 15,
   "metadata": {},
   "outputs": [],
   "source": [
    "# SUPRESSION DES DATAFRAMES QUI NE SONT PLUS NECESSAIRES\n",
    "del df_basics\n",
    "del df_rating_us\n",
    "del df_rating\n",
    "del df_total2\n",
    "del df_us\n",
    "del df_final2"
   ]
  },
  {
   "source": [
    "# Les notes moyennes des différents genres"
   ],
   "cell_type": "markdown",
   "metadata": {}
  },
  {
   "cell_type": "code",
   "execution_count": 16,
   "metadata": {},
   "outputs": [],
   "source": [
    "# CREATION D'UNE COPIE DE \"global_basics\"\n",
    "df_basics = global_basics"
   ]
  },
  {
   "cell_type": "code",
   "execution_count": 17,
   "metadata": {},
   "outputs": [],
   "source": [
    "# SPLIT DE LA COLONNE \"genres\"\n",
    "df_basics_genre = df_basics[\"genres\"].str.split(\",\", expand = True)"
   ]
  },
  {
   "cell_type": "code",
   "execution_count": 18,
   "metadata": {},
   "outputs": [],
   "source": [
    "# FUSION DES DATAFRAMES \"df_basics\" ET \"df_basics_genre\"\n",
    "df_genre_basics_split = df_basics.join(df_basics_genre)"
   ]
  },
  {
   "cell_type": "code",
   "execution_count": 19,
   "metadata": {},
   "outputs": [],
   "source": [
    "# MODIFICATION DU DATAFRAME \"df_genre_basics_split\"\n",
    "df_genre_basics_split = df_genre_basics_split.drop([\"genres\"], axis=1)\n",
    "df_genre_basics_split.rename(columns={0: \"genre1\", 1: \"genre2\", 2: \"genre3\"}, inplace=True)"
   ]
  },
  {
   "cell_type": "code",
   "execution_count": 20,
   "metadata": {},
   "outputs": [],
   "source": [
    "# CREATION ET MODIFICATION DU DATAFRAME \"df_rating\"\n",
    "df_rating = global_rating\n",
    "df_genre_basics_split.set_index(\"tconst\", inplace=True)\n",
    "df_rating.set_index(\"tconst\", inplace=True)\n",
    "df_genre_rating = df_genre_basics_split.join(df_rating)\n",
    "df_genre_rating.drop([\"titleType\",\"primaryTitle\",\"originalTitle\", \"isAdult\", \"startYear\",\"endYear\",\"runtimeMinutes\",\"numVotes\"], axis=1, inplace=True)"
   ]
  },
  {
   "cell_type": "code",
   "execution_count": 21,
   "metadata": {},
   "outputs": [],
   "source": [
    "# CREATION DES DATAFRAMES CONTENANTS LES GROUPBY DES DIFFERENTES COLONNES \"genre1\",\"genre2\" et \"genre3\"\n",
    "df_genre1 = df_genre_rating.groupby(\"genre1\").mean()\n",
    "df_genre2 = df_genre_rating.groupby(\"genre2\").mean()\n",
    "df_genre3 = df_genre_rating.groupby(\"genre3\").mean()"
   ]
  },
  {
   "cell_type": "code",
   "execution_count": 22,
   "metadata": {},
   "outputs": [],
   "source": [
    "# FUSION DES DATAFRAMES \"df_genre1\",\"df_genre2\" ET \"df_genre3\"\n",
    "df_genre_total = pd.concat([df_genre1,df_genre2,df_genre3], axis=1, keys=[\"note1\",\"note2\",\"note3\"])"
   ]
  },
  {
   "cell_type": "code",
   "execution_count": 23,
   "metadata": {},
   "outputs": [],
   "source": [
    "# MOYENNE DES 3 DATAFRAMES CI-DESSUS\n",
    "df_final3 = df_genre_total.mean(axis = 1)"
   ]
  },
  {
   "cell_type": "code",
   "execution_count": 24,
   "metadata": {},
   "outputs": [],
   "source": [
    "# CREATION DU CSV\n",
    "df_final3.to_csv(\"./data/OUTPUT/df_final3.csv\")"
   ]
  },
  {
   "cell_type": "code",
   "execution_count": 25,
   "metadata": {},
   "outputs": [],
   "source": [
    "# SUPRESSION DES DATAFRAMES QUI NE SONT PLUS NECESSAIRES\n",
    "del df_rating\n",
    "del df_genre_total\n",
    "del df_genre_rating\n",
    "del df_genre_basics_split\n",
    "del df_genre1\n",
    "del df_genre2\n",
    "del df_genre3\n",
    "del df_basics_genre\n",
    "del df_basics\n",
    "del df_final3\n"
   ]
  },
  {
   "source": [
    "# La note moyenne de chaque acteur par rapport aux films dans lesquels il apparaît"
   ],
   "cell_type": "markdown",
   "metadata": {}
  },
  {
   "cell_type": "code",
   "execution_count": 26,
   "metadata": {
    "tags": []
   },
   "outputs": [],
   "source": [
    "# CREATION ET MODIFICATION DES DATAFRAMES \"actor\" et \"actress\"\n",
    "df_actor_actress = pd.concat([global_actor,global_actress])\n",
    "df_actor_actress.drop([\"ordering\",\"category\",\"job\",\"characters\"], axis=1,inplace=True)\n",
    "\n",
    "# CREATION ET MODIFICATION DES DATAFRAMES \"movie\"\n",
    "global_movie = pd.read_table(\"./data/CURATED/title.basics/movie.csv\", sep=',')\n",
    "df_movie = global_movie.drop([\"titleType\",\"primaryTitle\",\"isAdult\",\"startYear\",\"endYear\",\"runtimeMinutes\",\"genres\"], axis=1)\n",
    "\n",
    "# CREATION ET MODIFICATION DU DATAFRAME \"name_actor\"\n",
    "global_name_actor = pd.read_table(\"./data/RAW/name.basics.tsv\", sep='\\t')\n",
    "df_name_actor = global_name_actor.dropna()\n",
    "df_name_actor = df_name_actor[[\"nconst\",\"primaryName\"]][df_name_actor[\"primaryProfession\"].str.contains(\"actor|actress\", regex=True)]\n",
    "\n",
    "# CREATION ET MODIFICATION DU DATAFRAME \"title.ratings\"\n",
    "df_rating = pd.read_csv(\"./data/RAW/title.ratings.tsv\", sep=\"\\t\")\n",
    "df_rating = df_rating.drop([\"numVotes\"], axis=1)\n",
    "\n",
    "# CHANGEMENT DES INDEX\n",
    "df_rating.set_index(\"tconst\", inplace=True)\n",
    "df_actor_actress.set_index(\"tconst\", inplace=True)\n",
    "df_movie.set_index(\"tconst\", inplace=True)\n",
    "df_name_actor.set_index(\"nconst\", inplace=True)\n",
    "\n",
    "# FUSION ENTRE \"df_actor_actress\" ET \"df_movie\"\n",
    "df_join_actor_movie = df_actor_actress.join(df_movie)\n",
    "df_join_actor_movie = df_join_actor_movie.join(df_rating)\n",
    "df_join_actor_movie.set_index(\"nconst\", inplace=True)\n",
    "\n",
    "# FUSION DES DATAFRAMES \"df_join_actor_movie\" ET \"df_name_actor\"\n",
    "df_join_total = df_join_actor_movie.join(df_name_actor)\n",
    "df_join_total = df_join_total.reset_index()\n",
    "df_final4 = df_join_total.drop([\"nconst\"], axis=1)\n",
    "\n",
    "# MODIFICATION DU DATAFRAME \"df_final4\"\n",
    "df_final4 = df_final4.dropna()\n",
    "\n",
    "# CREATION DU DATAFRAME CONTENANT LE GROUPBY DE \"primaryName\"\n",
    "df_final4 = df_final4.groupby(\"primaryName\").mean()\n",
    "\n",
    "# CREATION DU CSV\n",
    "df_final4.to_csv(\"./data/OUTPUT/df_final4.csv\")\n",
    "\n",
    "## SUPRESSION DES DATAFRAMES QUI NE SONT PLUS NECESSAIRES\n",
    "del df_actor_actress\n",
    "del df_join_actor_movie\n",
    "del df_join_total\n",
    "del df_movie\n",
    "del df_name_actor\n",
    "del df_rating\n",
    "del df_final4\n"
   ]
  },
  {
   "source": [
    "# BONUS PERSO : Je souhaite trouver les films où joue Edward Norton"
   ],
   "cell_type": "markdown",
   "metadata": {}
  },
  {
   "cell_type": "code",
   "execution_count": 27,
   "metadata": {},
   "outputs": [],
   "source": [
    "df_actor_actress = pd.concat([global_actor,global_actress])\n",
    "df_actor_actress.drop([\"ordering\",\"category\",\"job\",\"characters\"], axis=1,inplace=True)\n",
    "\n",
    "# CREATION ET MODIFICATION DES DATAFRAMES \"movie\"\n",
    "global_movie = pd.read_table(\"./data/CURATED/title.basics/movie.csv\", sep=',')\n",
    "df_movie = global_movie.drop([\"titleType\",\"primaryTitle\",\"isAdult\",\"startYear\",\"endYear\",\"runtimeMinutes\",\"genres\"], axis=1)\n",
    "\n",
    "# CREATION ET MODIFICATION DES DATAFRAMES \"name_actor\"\n",
    "global_name_actor = pd.read_table(\"./data/RAW/name.basics.tsv\", sep='\\t')\n",
    "df_name_actor = global_name_actor.dropna()\n",
    "df_name_actor = df_name_actor[[\"nconst\",\"primaryName\"]][df_name_actor[\"primaryProfession\"].str.contains(\"actor|actress\", regex=True)]\n",
    "\n",
    "# CHANGEMENT DES INDEX\n",
    "df_actor_actress.set_index(\"tconst\", inplace=True)\n",
    "df_movie.set_index(\"tconst\", inplace=True)\n",
    "df_name_actor.set_index(\"nconst\", inplace=True)\n",
    "\n",
    "# FUSION ENTRE \"df_actor_actress\" ET \"df_movie\"\n",
    "df_join_actor_movie = df_actor_actress.join(df_movie)\n",
    "df_join_actor_movie.set_index(\"nconst\", inplace=True)\n",
    "\n",
    "# FUSION DES DATAFRAMES \"df_join_actor_movie\" ET \"df_name_actor\"\n",
    "df_join_total = df_join_actor_movie.join(df_name_actor)\n",
    "df_join_total = df_join_total.reset_index()\n",
    "df_final = df_join_total.drop([\"nconst\"], axis=1)\n",
    "\n"
   ]
  },
  {
   "cell_type": "code",
   "execution_count": 28,
   "metadata": {},
   "outputs": [],
   "source": [
    "df_final = df_final.dropna()"
   ]
  },
  {
   "cell_type": "code",
   "execution_count": 29,
   "metadata": {},
   "outputs": [],
   "source": [
    "df_edward_norton = df_final[[\"originalTitle\",\"primaryName\"]][df_final[\"primaryName\"].str.contains(\"Edward Norton\")]"
   ]
  },
  {
   "cell_type": "code",
   "execution_count": 32,
   "metadata": {},
   "outputs": [],
   "source": [
    "# CREATION DU CSV\n",
    "df_edward_norton.to_csv(\"./data/OUTPUT/df_edward_norton.csv\")"
   ]
  },
  {
   "cell_type": "code",
   "execution_count": 31,
   "metadata": {},
   "outputs": [],
   "source": [
    "del df_actor_actress\n",
    "del df_join_actor_movie\n",
    "del df_join_total\n",
    "del df_movie\n",
    "del df_name_actor\n",
    "del df_final"
   ]
  },
  {
   "cell_type": "code",
   "execution_count": null,
   "metadata": {},
   "outputs": [],
   "source": []
  }
 ]
}