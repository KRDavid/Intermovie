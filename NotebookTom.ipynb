{
 "metadata": {
  "language_info": {
   "codemirror_mode": {
    "name": "ipython",
    "version": 3
   },
   "file_extension": ".py",
   "mimetype": "text/x-python",
   "name": "python",
   "nbconvert_exporter": "python",
   "pygments_lexer": "ipython3",
   "version": "3.7.9-final"
  },
  "orig_nbformat": 2,
  "kernelspec": {
   "name": "Python 3.7.9 64-bit ('intermovie': conda)",
   "display_name": "Python 3.7.9 64-bit ('intermovie': conda)",
   "metadata": {
    "interpreter": {
     "hash": "e158c6071094e0b3fdd2c320e554ca330ac70e308835a49627938a89d3ec7dcb"
    }
   }
  }
 },
 "nbformat": 4,
 "nbformat_minor": 2,
 "cells": [
  {
   "source": [
    "# Import des librairies"
   ],
   "cell_type": "markdown",
   "metadata": {}
  },
  {
   "cell_type": "code",
   "execution_count": null,
   "metadata": {
    "tags": []
   },
   "outputs": [],
   "source": [
    "%load_ext autoreload\n",
    "%autoreload 2\n",
    "\n",
    "import pandas as pd\n",
    "import numpy as np\n",
    "import csv\n",
    "from functions import split\n",
    "import matplotlib.pyplot as plt"
   ]
  },
  {
   "source": [
    "# La liste des acteurs par film"
   ],
   "cell_type": "markdown",
   "metadata": {}
  },
  {
   "cell_type": "code",
   "execution_count": null,
   "metadata": {},
   "outputs": [],
   "source": [
    "# SPLIT\n",
    "splitter_object = split.splitter(\"./data\", '\\t')\n",
    "\n",
    "splitter_object.file_splitter(\"title.principals.tsv\", \"category\", \"title.principals\")\n",
    "splitter_object.file_splitter(\"title.akas.tsv\", \"region\", \"title.akas\")\n",
    "splitter_object.file_splitter(\"title.basics.tsv\", \"titleType\", \"title.basics\")"
   ]
  },
  {
   "cell_type": "code",
   "execution_count": null,
   "metadata": {},
   "outputs": [],
   "source": [
    "# CREATION DES DATAFRAMES\n",
    "global_actor = pd.read_table(\"./data/CURATED/title.principals/actor.csv\", sep=',')\n",
    "global_actress = pd.read_table(\"./data/CURATED/title.principals/actress.csv\", sep=',')\n",
    "df_actor_actress = pd.concat([global_actor,global_actress])\n",
    "df_actor_actress.drop([\"ordering\",\"category\",\"job\",\"characters\"], axis=1,inplace=True)"
   ]
  },
  {
   "cell_type": "code",
   "execution_count": null,
   "metadata": {},
   "outputs": [],
   "source": [
    "# TITLE BASICS\n",
    "global_movie = pd.read_table(\"./data/CURATED/title.basics/movie.csv\", sep=',')\n",
    "df_movie = global_movie.drop([\"titleType\",\"primaryTitle\",\"isAdult\",\"startYear\",\"endYear\",\"runtimeMinutes\",\"genres\"], axis=1)\n",
    "\n",
    "# NAME ACTOR\n",
    "global_name_actor = pd.read_table(\"./data/RAW/name.basics.tsv\", sep='\\t')\n",
    "df_name_actor = global_name_actor.dropna()\n",
    "df_name_actor = df_name_actor[[\"nconst\",\"primaryName\"]][df_name_actor[\"primaryProfession\"].str.contains(\"actor|actress\", regex=True)]\n",
    "\n",
    "# CHANGEMENT DES INDEX\n",
    "df_actor_actress.set_index(\"tconst\", inplace=True)\n",
    "df_movie.set_index(\"tconst\", inplace=True)\n",
    "df_name_actor.set_index(\"nconst\", inplace=True)"
   ]
  },
  {
   "cell_type": "code",
   "execution_count": null,
   "metadata": {},
   "outputs": [],
   "source": [
    "# JOIN df_actor_actress AVEC df_movie\n",
    "df_join_actor_movie = df_actor_actress.join(df_movie)\n",
    "df_join_actor_movie.set_index(\"nconst\", inplace=True)\n",
    "\n",
    "# JOIN df_join_actor_movie AVEC df_name_actor\n",
    "df_join_total = df_join_actor_movie.join(df_name_actor)\n",
    "df_join_total = df_join_total.reset_index()\n",
    "df_final = df_join_total.drop([\"nconst\"], axis=1)"
   ]
  },
  {
   "cell_type": "code",
   "execution_count": null,
   "metadata": {},
   "outputs": [],
   "source": [
    "## SUPRESSION DES DATAFRAMES QUI NE SONT PLUS NECESSAIRES\n",
    "del df_actor_actress\n",
    "del df_join_actor_movie\n",
    "del df_join_total\n",
    "del df_movie"
   ]
  }
 ]
}